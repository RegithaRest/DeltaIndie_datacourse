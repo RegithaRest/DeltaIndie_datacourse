{
 "cells": [
  {
   "cell_type": "markdown",
   "id": "c2838529-7c56-4dfe-b402-f550bce75e72",
   "metadata": {},
   "source": [
    "Data Cleasing -- proses dari pemorisesian data yang berguna untuk membersihkan datar dari nilai yabf hilang ataupun pencilan(anomali data/data yng berbeda dari yg lainnnya)"
   ]
  },
  {
   "cell_type": "code",
   "execution_count": null,
   "id": "30354814-a279-4d6f-9c49-31223de0c362",
   "metadata": {},
   "outputs": [],
   "source": [
    "Regitha--- rambut panjang -- p\n",
    "Nina -- rambut panjang -- p\n",
    "Chila --- rambut panjang --- p\n",
    "putri --- rambut pendek -- p"
   ]
  },
  {
   "cell_type": "code",
   "execution_count": null,
   "id": "7efcf7a1-b668-482c-ae1e-24e66282b5f7",
   "metadata": {},
   "outputs": [],
   "source": [
    "budi --- rambut pendek --- L\n",
    "tono ---- rambut pendek --- L\n",
    "jeki --- rambut pendek -- l\n",
    "aldi --- rambut pendekk --- L"
   ]
  },
  {
   "cell_type": "markdown",
   "id": "821bdfb8-3f53-4954-b4ec-24feccce56a3",
   "metadata": {},
   "source": [
    "DINI --- Rambut pendek "
   ]
  },
  {
   "cell_type": "raw",
   "id": "1ec40aeb-9d46-4151-ae75-d632cc94a615",
   "metadata": {},
   "source": [
    "prediksi harga saham ---- Rp. "
   ]
  },
  {
   "cell_type": "code",
   "execution_count": 79,
   "id": "91e94ac1-e088-4d76-8890-3a9d70cb07c4",
   "metadata": {},
   "outputs": [],
   "source": [
    "import pandas as pd \n",
    "import numpy as np"
   ]
  },
  {
   "cell_type": "code",
   "execution_count": 8,
   "id": "604a14e3-adff-4c10-bcb0-c9cc6c6b98e7",
   "metadata": {},
   "outputs": [],
   "source": [
    "df = pd.read_csv('https://raw.githubusercontent.com/ardhiraka/PFDS_sources/master/property_data.csv')"
   ]
  },
  {
   "cell_type": "code",
   "execution_count": 10,
   "id": "e8addc31-0085-4fb3-80d3-008810ae16b4",
   "metadata": {},
   "outputs": [
    {
     "data": {
      "text/html": [
       "<div>\n",
       "<style scoped>\n",
       "    .dataframe tbody tr th:only-of-type {\n",
       "        vertical-align: middle;\n",
       "    }\n",
       "\n",
       "    .dataframe tbody tr th {\n",
       "        vertical-align: top;\n",
       "    }\n",
       "\n",
       "    .dataframe thead th {\n",
       "        text-align: right;\n",
       "    }\n",
       "</style>\n",
       "<table border=\"1\" class=\"dataframe\">\n",
       "  <thead>\n",
       "    <tr style=\"text-align: right;\">\n",
       "      <th></th>\n",
       "      <th>PID</th>\n",
       "      <th>ST_NUM</th>\n",
       "      <th>ST_NAME</th>\n",
       "      <th>OWN_OCCUPIED</th>\n",
       "      <th>NUM_BEDROOMS</th>\n",
       "      <th>NUM_BATH</th>\n",
       "      <th>SQ_FT</th>\n",
       "    </tr>\n",
       "  </thead>\n",
       "  <tbody>\n",
       "    <tr>\n",
       "      <th>0</th>\n",
       "      <td>100001000.0</td>\n",
       "      <td>104.0</td>\n",
       "      <td>PUTNAM</td>\n",
       "      <td>Y</td>\n",
       "      <td>3</td>\n",
       "      <td>1</td>\n",
       "      <td>1000</td>\n",
       "    </tr>\n",
       "    <tr>\n",
       "      <th>1</th>\n",
       "      <td>100002000.0</td>\n",
       "      <td>197.0</td>\n",
       "      <td>LEXINGTON</td>\n",
       "      <td>N</td>\n",
       "      <td>3</td>\n",
       "      <td>1.5</td>\n",
       "      <td>--</td>\n",
       "    </tr>\n",
       "    <tr>\n",
       "      <th>2</th>\n",
       "      <td>100003000.0</td>\n",
       "      <td>NaN</td>\n",
       "      <td>LEXINGTON</td>\n",
       "      <td>N</td>\n",
       "      <td>NaN</td>\n",
       "      <td>1</td>\n",
       "      <td>850</td>\n",
       "    </tr>\n",
       "    <tr>\n",
       "      <th>3</th>\n",
       "      <td>100004000.0</td>\n",
       "      <td>201.0</td>\n",
       "      <td>BERKELEY</td>\n",
       "      <td>12</td>\n",
       "      <td>1</td>\n",
       "      <td>NaN</td>\n",
       "      <td>700</td>\n",
       "    </tr>\n",
       "    <tr>\n",
       "      <th>4</th>\n",
       "      <td>NaN</td>\n",
       "      <td>203.0</td>\n",
       "      <td>BERKELEY</td>\n",
       "      <td>Y</td>\n",
       "      <td>3</td>\n",
       "      <td>2</td>\n",
       "      <td>1600</td>\n",
       "    </tr>\n",
       "    <tr>\n",
       "      <th>5</th>\n",
       "      <td>100006000.0</td>\n",
       "      <td>207.0</td>\n",
       "      <td>BERKELEY</td>\n",
       "      <td>Y</td>\n",
       "      <td>NaN</td>\n",
       "      <td>1</td>\n",
       "      <td>800</td>\n",
       "    </tr>\n",
       "    <tr>\n",
       "      <th>6</th>\n",
       "      <td>100007000.0</td>\n",
       "      <td>NaN</td>\n",
       "      <td>WASHINGTON</td>\n",
       "      <td>NaN</td>\n",
       "      <td>2</td>\n",
       "      <td>HURLEY</td>\n",
       "      <td>950</td>\n",
       "    </tr>\n",
       "    <tr>\n",
       "      <th>7</th>\n",
       "      <td>100008000.0</td>\n",
       "      <td>213.0</td>\n",
       "      <td>TREMONT</td>\n",
       "      <td>Y</td>\n",
       "      <td>--</td>\n",
       "      <td>1</td>\n",
       "      <td>NaN</td>\n",
       "    </tr>\n",
       "    <tr>\n",
       "      <th>8</th>\n",
       "      <td>100009000.0</td>\n",
       "      <td>215.0</td>\n",
       "      <td>TREMONT</td>\n",
       "      <td>Y</td>\n",
       "      <td>na</td>\n",
       "      <td>2</td>\n",
       "      <td>1800</td>\n",
       "    </tr>\n",
       "  </tbody>\n",
       "</table>\n",
       "</div>"
      ],
      "text/plain": [
       "           PID  ST_NUM     ST_NAME OWN_OCCUPIED NUM_BEDROOMS NUM_BATH SQ_FT\n",
       "0  100001000.0   104.0      PUTNAM            Y            3        1  1000\n",
       "1  100002000.0   197.0   LEXINGTON            N            3      1.5    --\n",
       "2  100003000.0     NaN   LEXINGTON            N          NaN        1   850\n",
       "3  100004000.0   201.0    BERKELEY           12            1      NaN   700\n",
       "4          NaN   203.0    BERKELEY            Y            3        2  1600\n",
       "5  100006000.0   207.0    BERKELEY            Y          NaN        1   800\n",
       "6  100007000.0     NaN  WASHINGTON          NaN            2   HURLEY   950\n",
       "7  100008000.0   213.0     TREMONT            Y           --        1   NaN\n",
       "8  100009000.0   215.0     TREMONT            Y           na        2  1800"
      ]
     },
     "execution_count": 10,
     "metadata": {},
     "output_type": "execute_result"
    }
   ],
   "source": [
    "df"
   ]
  },
  {
   "cell_type": "code",
   "execution_count": 12,
   "id": "d6f50107-d9e2-44f3-9148-ef3a513168fe",
   "metadata": {},
   "outputs": [
    {
     "data": {
      "text/plain": [
       "(9, 7)"
      ]
     },
     "execution_count": 12,
     "metadata": {},
     "output_type": "execute_result"
    }
   ],
   "source": [
    "df.shape"
   ]
  },
  {
   "cell_type": "markdown",
   "id": "c46e565e-72d4-4e8c-afbb-b0d435e80837",
   "metadata": {},
   "source": [
    "NAN, NULL, ____, ----> missing value"
   ]
  },
  {
   "cell_type": "markdown",
   "id": "129a3bf3-c434-49cb-b370-b731bfd8c70a",
   "metadata": {},
   "source": [
    "index --- urutan\n",
    "id ---- kunci "
   ]
  },
  {
   "cell_type": "markdown",
   "id": "3d082795-a82c-4032-83bc-5aec1ca6ce85",
   "metadata": {},
   "source": [
    "3. Ketahui kolomnya"
   ]
  },
  {
   "cell_type": "code",
   "execution_count": null,
   "id": "34290356-49d2-4fe6-bf93-1fa0f331b04e",
   "metadata": {},
   "outputs": [],
   "source": [
    "1. ST_NUM: Street Number ----- int/float\n",
    "2. ST_NAME: Street Name -- STRING /OBJECT\n",
    "3. OWN_OCCUPIED : Kepemilikan Occupied ---- OBJEK\n",
    "4. NUM_BEDROOMS : Jumlah Kamar \n",
    "5. Num_BATHROOM : Jumlah Kamar mandi "
   ]
  },
  {
   "cell_type": "code",
   "execution_count": 23,
   "id": "9eb40846-783f-482d-b60e-92cd57a6d48e",
   "metadata": {},
   "outputs": [
    {
     "data": {
      "text/html": [
       "<div>\n",
       "<style scoped>\n",
       "    .dataframe tbody tr th:only-of-type {\n",
       "        vertical-align: middle;\n",
       "    }\n",
       "\n",
       "    .dataframe tbody tr th {\n",
       "        vertical-align: top;\n",
       "    }\n",
       "\n",
       "    .dataframe thead th {\n",
       "        text-align: right;\n",
       "    }\n",
       "</style>\n",
       "<table border=\"1\" class=\"dataframe\">\n",
       "  <thead>\n",
       "    <tr style=\"text-align: right;\">\n",
       "      <th></th>\n",
       "      <th>ST_NUM</th>\n",
       "      <th>ST_NAME</th>\n",
       "      <th>OWN_OCCUPIED</th>\n",
       "      <th>NUM_BEDROOMS</th>\n",
       "      <th>NUM_BATH</th>\n",
       "    </tr>\n",
       "  </thead>\n",
       "  <tbody>\n",
       "    <tr>\n",
       "      <th>0</th>\n",
       "      <td>104.0</td>\n",
       "      <td>PUTNAM</td>\n",
       "      <td>Y</td>\n",
       "      <td>3</td>\n",
       "      <td>1</td>\n",
       "    </tr>\n",
       "    <tr>\n",
       "      <th>1</th>\n",
       "      <td>197.0</td>\n",
       "      <td>LEXINGTON</td>\n",
       "      <td>N</td>\n",
       "      <td>3</td>\n",
       "      <td>1.5</td>\n",
       "    </tr>\n",
       "    <tr>\n",
       "      <th>2</th>\n",
       "      <td>NaN</td>\n",
       "      <td>LEXINGTON</td>\n",
       "      <td>N</td>\n",
       "      <td>NaN</td>\n",
       "      <td>1</td>\n",
       "    </tr>\n",
       "    <tr>\n",
       "      <th>3</th>\n",
       "      <td>201.0</td>\n",
       "      <td>BERKELEY</td>\n",
       "      <td>12</td>\n",
       "      <td>1</td>\n",
       "      <td>NaN</td>\n",
       "    </tr>\n",
       "    <tr>\n",
       "      <th>4</th>\n",
       "      <td>203.0</td>\n",
       "      <td>BERKELEY</td>\n",
       "      <td>Y</td>\n",
       "      <td>3</td>\n",
       "      <td>2</td>\n",
       "    </tr>\n",
       "    <tr>\n",
       "      <th>5</th>\n",
       "      <td>207.0</td>\n",
       "      <td>BERKELEY</td>\n",
       "      <td>Y</td>\n",
       "      <td>NaN</td>\n",
       "      <td>1</td>\n",
       "    </tr>\n",
       "    <tr>\n",
       "      <th>6</th>\n",
       "      <td>NaN</td>\n",
       "      <td>WASHINGTON</td>\n",
       "      <td>NaN</td>\n",
       "      <td>2</td>\n",
       "      <td>HURLEY</td>\n",
       "    </tr>\n",
       "    <tr>\n",
       "      <th>7</th>\n",
       "      <td>213.0</td>\n",
       "      <td>TREMONT</td>\n",
       "      <td>Y</td>\n",
       "      <td>--</td>\n",
       "      <td>1</td>\n",
       "    </tr>\n",
       "    <tr>\n",
       "      <th>8</th>\n",
       "      <td>215.0</td>\n",
       "      <td>TREMONT</td>\n",
       "      <td>Y</td>\n",
       "      <td>na</td>\n",
       "      <td>2</td>\n",
       "    </tr>\n",
       "  </tbody>\n",
       "</table>\n",
       "</div>"
      ],
      "text/plain": [
       "   ST_NUM     ST_NAME OWN_OCCUPIED NUM_BEDROOMS NUM_BATH\n",
       "0   104.0      PUTNAM            Y            3        1\n",
       "1   197.0   LEXINGTON            N            3      1.5\n",
       "2     NaN   LEXINGTON            N          NaN        1\n",
       "3   201.0    BERKELEY           12            1      NaN\n",
       "4   203.0    BERKELEY            Y            3        2\n",
       "5   207.0    BERKELEY            Y          NaN        1\n",
       "6     NaN  WASHINGTON          NaN            2   HURLEY\n",
       "7   213.0     TREMONT            Y           --        1\n",
       "8   215.0     TREMONT            Y           na        2"
      ]
     },
     "execution_count": 23,
     "metadata": {},
     "output_type": "execute_result"
    }
   ],
   "source": [
    "df_used = df[[\"ST_NUM\",\"ST_NAME\",\"OWN_OCCUPIED\",\"NUM_BEDROOMS\",\"NUM_BATH\"]]\n",
    "df_used"
   ]
  },
  {
   "cell_type": "code",
   "execution_count": 25,
   "id": "e6610475-6c97-44ab-a85c-7dc17e508cb3",
   "metadata": {},
   "outputs": [
    {
     "data": {
      "text/plain": [
       "0    104.0\n",
       "1    197.0\n",
       "2      NaN\n",
       "3    201.0\n",
       "4    203.0\n",
       "5    207.0\n",
       "6      NaN\n",
       "7    213.0\n",
       "8    215.0\n",
       "Name: ST_NUM, dtype: float64"
      ]
     },
     "execution_count": 25,
     "metadata": {},
     "output_type": "execute_result"
    }
   ],
   "source": [
    "df_used[\"ST_NUM\"]"
   ]
  },
  {
   "cell_type": "code",
   "execution_count": 29,
   "id": "0ae60347-f09b-42c6-aad3-06ea470ecde5",
   "metadata": {},
   "outputs": [
    {
     "data": {
      "text/plain": [
       "0    False\n",
       "1    False\n",
       "2     True\n",
       "3    False\n",
       "4    False\n",
       "5    False\n",
       "6     True\n",
       "7    False\n",
       "8    False\n",
       "Name: ST_NUM, dtype: bool"
      ]
     },
     "execution_count": 29,
     "metadata": {},
     "output_type": "execute_result"
    }
   ],
   "source": [
    "df_used[\"ST_NUM\"].isnull() --- #isna() atau isnull()"
   ]
  },
  {
   "cell_type": "code",
   "execution_count": 31,
   "id": "41c222dc-2204-45f5-b072-c675b3bfa86c",
   "metadata": {},
   "outputs": [
    {
     "data": {
      "text/plain": [
       "ST_NUM          2\n",
       "ST_NAME         0\n",
       "OWN_OCCUPIED    1\n",
       "NUM_BEDROOMS    2\n",
       "NUM_BATH        1\n",
       "dtype: int64"
      ]
     },
     "execution_count": 31,
     "metadata": {},
     "output_type": "execute_result"
    }
   ],
   "source": [
    "df_used.isnull().sum() --- #melihat missing value yang ada di tabel keseluruhan"
   ]
  },
  {
   "cell_type": "code",
   "execution_count": null,
   "id": "4caa0ea7-698a-470c-9b92-da66e792b8a0",
   "metadata": {},
   "outputs": [],
   "source": [
    "--- ---> value--- string\n",
    "na ---- value --- string"
   ]
  },
  {
   "cell_type": "markdown",
   "id": "cdac9a10-4b53-4cbd-806c-464bfca28c98",
   "metadata": {},
   "source": [
    "#bersihkan data"
   ]
  },
  {
   "cell_type": "code",
   "execution_count": 33,
   "id": "4b123b23-e9f8-4875-ab99-d2d54fcdf378",
   "metadata": {
    "scrolled": true
   },
   "outputs": [
    {
     "data": {
      "text/plain": [
       "<bound method DataFrame.info of            PID  ST_NUM     ST_NAME OWN_OCCUPIED NUM_BEDROOMS NUM_BATH SQ_FT\n",
       "0  100001000.0   104.0      PUTNAM            Y            3        1  1000\n",
       "1  100002000.0   197.0   LEXINGTON            N            3      1.5    --\n",
       "2  100003000.0     NaN   LEXINGTON            N          NaN        1   850\n",
       "3  100004000.0   201.0    BERKELEY           12            1      NaN   700\n",
       "4          NaN   203.0    BERKELEY            Y            3        2  1600\n",
       "5  100006000.0   207.0    BERKELEY            Y          NaN        1   800\n",
       "6  100007000.0     NaN  WASHINGTON          NaN            2   HURLEY   950\n",
       "7  100008000.0   213.0     TREMONT            Y           --        1   NaN\n",
       "8  100009000.0   215.0     TREMONT            Y           na        2  1800>"
      ]
     },
     "execution_count": 33,
     "metadata": {},
     "output_type": "execute_result"
    }
   ],
   "source": [
    "df.info"
   ]
  },
  {
   "cell_type": "code",
   "execution_count": 41,
   "id": "999277c2-0bc5-4c6b-a3b9-72e9eff20793",
   "metadata": {},
   "outputs": [],
   "source": [
    "filter_missing_value = [\"na\",\"--\"]"
   ]
  },
  {
   "cell_type": "code",
   "execution_count": 65,
   "id": "0e1b9032-d410-4fd7-b72f-5344760f2946",
   "metadata": {},
   "outputs": [
    {
     "data": {
      "text/html": [
       "<div>\n",
       "<style scoped>\n",
       "    .dataframe tbody tr th:only-of-type {\n",
       "        vertical-align: middle;\n",
       "    }\n",
       "\n",
       "    .dataframe tbody tr th {\n",
       "        vertical-align: top;\n",
       "    }\n",
       "\n",
       "    .dataframe thead th {\n",
       "        text-align: right;\n",
       "    }\n",
       "</style>\n",
       "<table border=\"1\" class=\"dataframe\">\n",
       "  <thead>\n",
       "    <tr style=\"text-align: right;\">\n",
       "      <th></th>\n",
       "      <th>PID</th>\n",
       "      <th>ST_NUM</th>\n",
       "      <th>ST_NAME</th>\n",
       "      <th>OWN_OCCUPIED</th>\n",
       "      <th>NUM_BEDROOMS</th>\n",
       "      <th>NUM_BATH</th>\n",
       "      <th>SQ_FT</th>\n",
       "    </tr>\n",
       "  </thead>\n",
       "  <tbody>\n",
       "    <tr>\n",
       "      <th>0</th>\n",
       "      <td>100001000.0</td>\n",
       "      <td>104.0</td>\n",
       "      <td>PUTNAM</td>\n",
       "      <td>Y</td>\n",
       "      <td>3.0</td>\n",
       "      <td>1</td>\n",
       "      <td>1000.0</td>\n",
       "    </tr>\n",
       "    <tr>\n",
       "      <th>1</th>\n",
       "      <td>100002000.0</td>\n",
       "      <td>197.0</td>\n",
       "      <td>LEXINGTON</td>\n",
       "      <td>N</td>\n",
       "      <td>3.0</td>\n",
       "      <td>1.5</td>\n",
       "      <td>NaN</td>\n",
       "    </tr>\n",
       "    <tr>\n",
       "      <th>2</th>\n",
       "      <td>100003000.0</td>\n",
       "      <td>NaN</td>\n",
       "      <td>LEXINGTON</td>\n",
       "      <td>N</td>\n",
       "      <td>NaN</td>\n",
       "      <td>1</td>\n",
       "      <td>850.0</td>\n",
       "    </tr>\n",
       "    <tr>\n",
       "      <th>3</th>\n",
       "      <td>100004000.0</td>\n",
       "      <td>201.0</td>\n",
       "      <td>BERKELEY</td>\n",
       "      <td>12</td>\n",
       "      <td>1.0</td>\n",
       "      <td>NaN</td>\n",
       "      <td>700.0</td>\n",
       "    </tr>\n",
       "    <tr>\n",
       "      <th>4</th>\n",
       "      <td>NaN</td>\n",
       "      <td>203.0</td>\n",
       "      <td>BERKELEY</td>\n",
       "      <td>Y</td>\n",
       "      <td>3.0</td>\n",
       "      <td>2</td>\n",
       "      <td>1600.0</td>\n",
       "    </tr>\n",
       "    <tr>\n",
       "      <th>5</th>\n",
       "      <td>100006000.0</td>\n",
       "      <td>207.0</td>\n",
       "      <td>BERKELEY</td>\n",
       "      <td>Y</td>\n",
       "      <td>NaN</td>\n",
       "      <td>1</td>\n",
       "      <td>800.0</td>\n",
       "    </tr>\n",
       "    <tr>\n",
       "      <th>6</th>\n",
       "      <td>100007000.0</td>\n",
       "      <td>NaN</td>\n",
       "      <td>WASHINGTON</td>\n",
       "      <td>NaN</td>\n",
       "      <td>2.0</td>\n",
       "      <td>HURLEY</td>\n",
       "      <td>950.0</td>\n",
       "    </tr>\n",
       "    <tr>\n",
       "      <th>7</th>\n",
       "      <td>100008000.0</td>\n",
       "      <td>213.0</td>\n",
       "      <td>TREMONT</td>\n",
       "      <td>Y</td>\n",
       "      <td>NaN</td>\n",
       "      <td>1</td>\n",
       "      <td>NaN</td>\n",
       "    </tr>\n",
       "    <tr>\n",
       "      <th>8</th>\n",
       "      <td>100009000.0</td>\n",
       "      <td>215.0</td>\n",
       "      <td>TREMONT</td>\n",
       "      <td>Y</td>\n",
       "      <td>NaN</td>\n",
       "      <td>2</td>\n",
       "      <td>1800.0</td>\n",
       "    </tr>\n",
       "  </tbody>\n",
       "</table>\n",
       "</div>"
      ],
      "text/plain": [
       "           PID  ST_NUM     ST_NAME OWN_OCCUPIED  NUM_BEDROOMS NUM_BATH   SQ_FT\n",
       "0  100001000.0   104.0      PUTNAM            Y           3.0        1  1000.0\n",
       "1  100002000.0   197.0   LEXINGTON            N           3.0      1.5     NaN\n",
       "2  100003000.0     NaN   LEXINGTON            N           NaN        1   850.0\n",
       "3  100004000.0   201.0    BERKELEY           12           1.0      NaN   700.0\n",
       "4          NaN   203.0    BERKELEY            Y           3.0        2  1600.0\n",
       "5  100006000.0   207.0    BERKELEY            Y           NaN        1   800.0\n",
       "6  100007000.0     NaN  WASHINGTON          NaN           2.0   HURLEY   950.0\n",
       "7  100008000.0   213.0     TREMONT            Y           NaN        1     NaN\n",
       "8  100009000.0   215.0     TREMONT            Y           NaN        2  1800.0"
      ]
     },
     "execution_count": 65,
     "metadata": {},
     "output_type": "execute_result"
    }
   ],
   "source": [
    "df_2 = pd.read_csv('https://raw.githubusercontent.com/ardhiraka/PFDS_sources/master/property_data.csv',na_values= filter_missing_value)\n",
    "df_2"
   ]
  },
  {
   "cell_type": "markdown",
   "id": "bdcda5df-7b1b-47cb-8ab7-9f92885926ee",
   "metadata": {},
   "source": [
    "#metode kedua dengan dropna()"
   ]
  },
  {
   "cell_type": "code",
   "execution_count": 53,
   "id": "773aabbc-5049-4d36-bfc3-37f2c4135bcb",
   "metadata": {},
   "outputs": [
    {
     "data": {
      "text/html": [
       "<div>\n",
       "<style scoped>\n",
       "    .dataframe tbody tr th:only-of-type {\n",
       "        vertical-align: middle;\n",
       "    }\n",
       "\n",
       "    .dataframe tbody tr th {\n",
       "        vertical-align: top;\n",
       "    }\n",
       "\n",
       "    .dataframe thead th {\n",
       "        text-align: right;\n",
       "    }\n",
       "</style>\n",
       "<table border=\"1\" class=\"dataframe\">\n",
       "  <thead>\n",
       "    <tr style=\"text-align: right;\">\n",
       "      <th></th>\n",
       "      <th>PID</th>\n",
       "      <th>ST_NUM</th>\n",
       "      <th>ST_NAME</th>\n",
       "      <th>OWN_OCCUPIED</th>\n",
       "      <th>NUM_BEDROOMS</th>\n",
       "      <th>NUM_BATH</th>\n",
       "      <th>SQ_FT</th>\n",
       "    </tr>\n",
       "  </thead>\n",
       "  <tbody>\n",
       "    <tr>\n",
       "      <th>0</th>\n",
       "      <td>100001000.0</td>\n",
       "      <td>104.0</td>\n",
       "      <td>PUTNAM</td>\n",
       "      <td>Y</td>\n",
       "      <td>3.0</td>\n",
       "      <td>1</td>\n",
       "      <td>1000.0</td>\n",
       "    </tr>\n",
       "    <tr>\n",
       "      <th>1</th>\n",
       "      <td>100002000.0</td>\n",
       "      <td>197.0</td>\n",
       "      <td>LEXINGTON</td>\n",
       "      <td>N</td>\n",
       "      <td>3.0</td>\n",
       "      <td>1.5</td>\n",
       "      <td>NaN</td>\n",
       "    </tr>\n",
       "    <tr>\n",
       "      <th>2</th>\n",
       "      <td>100003000.0</td>\n",
       "      <td>NaN</td>\n",
       "      <td>LEXINGTON</td>\n",
       "      <td>N</td>\n",
       "      <td>NaN</td>\n",
       "      <td>1</td>\n",
       "      <td>850.0</td>\n",
       "    </tr>\n",
       "    <tr>\n",
       "      <th>3</th>\n",
       "      <td>100004000.0</td>\n",
       "      <td>201.0</td>\n",
       "      <td>BERKELEY</td>\n",
       "      <td>12</td>\n",
       "      <td>1.0</td>\n",
       "      <td>NaN</td>\n",
       "      <td>700.0</td>\n",
       "    </tr>\n",
       "    <tr>\n",
       "      <th>4</th>\n",
       "      <td>NaN</td>\n",
       "      <td>203.0</td>\n",
       "      <td>BERKELEY</td>\n",
       "      <td>Y</td>\n",
       "      <td>3.0</td>\n",
       "      <td>2</td>\n",
       "      <td>1600.0</td>\n",
       "    </tr>\n",
       "    <tr>\n",
       "      <th>5</th>\n",
       "      <td>100006000.0</td>\n",
       "      <td>207.0</td>\n",
       "      <td>BERKELEY</td>\n",
       "      <td>Y</td>\n",
       "      <td>NaN</td>\n",
       "      <td>1</td>\n",
       "      <td>800.0</td>\n",
       "    </tr>\n",
       "    <tr>\n",
       "      <th>6</th>\n",
       "      <td>100007000.0</td>\n",
       "      <td>NaN</td>\n",
       "      <td>WASHINGTON</td>\n",
       "      <td>NaN</td>\n",
       "      <td>2.0</td>\n",
       "      <td>HURLEY</td>\n",
       "      <td>950.0</td>\n",
       "    </tr>\n",
       "    <tr>\n",
       "      <th>7</th>\n",
       "      <td>100008000.0</td>\n",
       "      <td>213.0</td>\n",
       "      <td>TREMONT</td>\n",
       "      <td>Y</td>\n",
       "      <td>NaN</td>\n",
       "      <td>1</td>\n",
       "      <td>NaN</td>\n",
       "    </tr>\n",
       "    <tr>\n",
       "      <th>8</th>\n",
       "      <td>100009000.0</td>\n",
       "      <td>215.0</td>\n",
       "      <td>TREMONT</td>\n",
       "      <td>Y</td>\n",
       "      <td>NaN</td>\n",
       "      <td>2</td>\n",
       "      <td>1800.0</td>\n",
       "    </tr>\n",
       "  </tbody>\n",
       "</table>\n",
       "</div>"
      ],
      "text/plain": [
       "           PID  ST_NUM     ST_NAME OWN_OCCUPIED  NUM_BEDROOMS NUM_BATH   SQ_FT\n",
       "0  100001000.0   104.0      PUTNAM            Y           3.0        1  1000.0\n",
       "1  100002000.0   197.0   LEXINGTON            N           3.0      1.5     NaN\n",
       "2  100003000.0     NaN   LEXINGTON            N           NaN        1   850.0\n",
       "3  100004000.0   201.0    BERKELEY           12           1.0      NaN   700.0\n",
       "4          NaN   203.0    BERKELEY            Y           3.0        2  1600.0\n",
       "5  100006000.0   207.0    BERKELEY            Y           NaN        1   800.0\n",
       "6  100007000.0     NaN  WASHINGTON          NaN           2.0   HURLEY   950.0\n",
       "7  100008000.0   213.0     TREMONT            Y           NaN        1     NaN\n",
       "8  100009000.0   215.0     TREMONT            Y           NaN        2  1800.0"
      ]
     },
     "execution_count": 53,
     "metadata": {},
     "output_type": "execute_result"
    }
   ],
   "source": [
    "df_2 = pd.read_csv('https://raw.githubusercontent.com/ardhiraka/PFDS_sources/master/property_data.csv',na_values= filter_missing_value)\n",
    "df_2"
   ]
  },
  {
   "cell_type": "code",
   "execution_count": 67,
   "id": "07f76f76-868e-4e6b-9ffa-48d14d93a13a",
   "metadata": {},
   "outputs": [
    {
     "data": {
      "text/html": [
       "<div>\n",
       "<style scoped>\n",
       "    .dataframe tbody tr th:only-of-type {\n",
       "        vertical-align: middle;\n",
       "    }\n",
       "\n",
       "    .dataframe tbody tr th {\n",
       "        vertical-align: top;\n",
       "    }\n",
       "\n",
       "    .dataframe thead th {\n",
       "        text-align: right;\n",
       "    }\n",
       "</style>\n",
       "<table border=\"1\" class=\"dataframe\">\n",
       "  <thead>\n",
       "    <tr style=\"text-align: right;\">\n",
       "      <th></th>\n",
       "      <th>ST_NUM</th>\n",
       "      <th>ST_NAME</th>\n",
       "      <th>OWN_OCCUPIED</th>\n",
       "      <th>NUM_BEDROOMS</th>\n",
       "      <th>NUM_BATH</th>\n",
       "    </tr>\n",
       "  </thead>\n",
       "  <tbody>\n",
       "    <tr>\n",
       "      <th>0</th>\n",
       "      <td>104.0</td>\n",
       "      <td>PUTNAM</td>\n",
       "      <td>Y</td>\n",
       "      <td>3.0</td>\n",
       "      <td>1</td>\n",
       "    </tr>\n",
       "    <tr>\n",
       "      <th>1</th>\n",
       "      <td>197.0</td>\n",
       "      <td>LEXINGTON</td>\n",
       "      <td>N</td>\n",
       "      <td>3.0</td>\n",
       "      <td>1.5</td>\n",
       "    </tr>\n",
       "    <tr>\n",
       "      <th>2</th>\n",
       "      <td>NaN</td>\n",
       "      <td>LEXINGTON</td>\n",
       "      <td>N</td>\n",
       "      <td>NaN</td>\n",
       "      <td>1</td>\n",
       "    </tr>\n",
       "    <tr>\n",
       "      <th>3</th>\n",
       "      <td>201.0</td>\n",
       "      <td>BERKELEY</td>\n",
       "      <td>12</td>\n",
       "      <td>1.0</td>\n",
       "      <td>NaN</td>\n",
       "    </tr>\n",
       "    <tr>\n",
       "      <th>4</th>\n",
       "      <td>203.0</td>\n",
       "      <td>BERKELEY</td>\n",
       "      <td>Y</td>\n",
       "      <td>3.0</td>\n",
       "      <td>2</td>\n",
       "    </tr>\n",
       "    <tr>\n",
       "      <th>5</th>\n",
       "      <td>207.0</td>\n",
       "      <td>BERKELEY</td>\n",
       "      <td>Y</td>\n",
       "      <td>NaN</td>\n",
       "      <td>1</td>\n",
       "    </tr>\n",
       "    <tr>\n",
       "      <th>6</th>\n",
       "      <td>NaN</td>\n",
       "      <td>WASHINGTON</td>\n",
       "      <td>NaN</td>\n",
       "      <td>2.0</td>\n",
       "      <td>HURLEY</td>\n",
       "    </tr>\n",
       "    <tr>\n",
       "      <th>7</th>\n",
       "      <td>213.0</td>\n",
       "      <td>TREMONT</td>\n",
       "      <td>Y</td>\n",
       "      <td>NaN</td>\n",
       "      <td>1</td>\n",
       "    </tr>\n",
       "    <tr>\n",
       "      <th>8</th>\n",
       "      <td>215.0</td>\n",
       "      <td>TREMONT</td>\n",
       "      <td>Y</td>\n",
       "      <td>NaN</td>\n",
       "      <td>2</td>\n",
       "    </tr>\n",
       "  </tbody>\n",
       "</table>\n",
       "</div>"
      ],
      "text/plain": [
       "   ST_NUM     ST_NAME OWN_OCCUPIED  NUM_BEDROOMS NUM_BATH\n",
       "0   104.0      PUTNAM            Y           3.0        1\n",
       "1   197.0   LEXINGTON            N           3.0      1.5\n",
       "2     NaN   LEXINGTON            N           NaN        1\n",
       "3   201.0    BERKELEY           12           1.0      NaN\n",
       "4   203.0    BERKELEY            Y           3.0        2\n",
       "5   207.0    BERKELEY            Y           NaN        1\n",
       "6     NaN  WASHINGTON          NaN           2.0   HURLEY\n",
       "7   213.0     TREMONT            Y           NaN        1\n",
       "8   215.0     TREMONT            Y           NaN        2"
      ]
     },
     "execution_count": 67,
     "metadata": {},
     "output_type": "execute_result"
    }
   ],
   "source": [
    "df_2 = df_2[[\"ST_NUM\",\"ST_NAME\",\"OWN_OCCUPIED\",\"NUM_BEDROOMS\",\"NUM_BATH\"]]\n",
    "df_2"
   ]
  },
  {
   "cell_type": "code",
   "execution_count": 59,
   "id": "c851e2ed-cfb4-4fc4-8804-ef8bc907eb17",
   "metadata": {},
   "outputs": [
    {
     "data": {
      "text/plain": [
       "ST_NUM          2\n",
       "ST_NAME         0\n",
       "OWN_OCCUPIED    1\n",
       "NUM_BEDROOMS    2\n",
       "NUM_BATH        1\n",
       "dtype: int64"
      ]
     },
     "execution_count": 59,
     "metadata": {},
     "output_type": "execute_result"
    }
   ],
   "source": [
    "df_2.isna().sum()"
   ]
  },
  {
   "cell_type": "code",
   "execution_count": 69,
   "id": "1965ae58-471b-4aaa-b84f-8f4327968958",
   "metadata": {},
   "outputs": [
    {
     "name": "stderr",
     "output_type": "stream",
     "text": [
      "C:\\Users\\gilan\\AppData\\Local\\Temp\\ipykernel_6908\\1825947422.py:2: SettingWithCopyWarning: \n",
      "A value is trying to be set on a copy of a slice from a DataFrame\n",
      "\n",
      "See the caveats in the documentation: https://pandas.pydata.org/pandas-docs/stable/user_guide/indexing.html#returning-a-view-versus-a-copy\n",
      "  df_2.dropna(inplace=True)\n"
     ]
    },
    {
     "data": {
      "text/html": [
       "<div>\n",
       "<style scoped>\n",
       "    .dataframe tbody tr th:only-of-type {\n",
       "        vertical-align: middle;\n",
       "    }\n",
       "\n",
       "    .dataframe tbody tr th {\n",
       "        vertical-align: top;\n",
       "    }\n",
       "\n",
       "    .dataframe thead th {\n",
       "        text-align: right;\n",
       "    }\n",
       "</style>\n",
       "<table border=\"1\" class=\"dataframe\">\n",
       "  <thead>\n",
       "    <tr style=\"text-align: right;\">\n",
       "      <th></th>\n",
       "      <th>ST_NUM</th>\n",
       "      <th>ST_NAME</th>\n",
       "      <th>OWN_OCCUPIED</th>\n",
       "      <th>NUM_BEDROOMS</th>\n",
       "      <th>NUM_BATH</th>\n",
       "    </tr>\n",
       "  </thead>\n",
       "  <tbody>\n",
       "    <tr>\n",
       "      <th>0</th>\n",
       "      <td>104.0</td>\n",
       "      <td>PUTNAM</td>\n",
       "      <td>Y</td>\n",
       "      <td>3.0</td>\n",
       "      <td>1</td>\n",
       "    </tr>\n",
       "    <tr>\n",
       "      <th>1</th>\n",
       "      <td>197.0</td>\n",
       "      <td>LEXINGTON</td>\n",
       "      <td>N</td>\n",
       "      <td>3.0</td>\n",
       "      <td>1.5</td>\n",
       "    </tr>\n",
       "    <tr>\n",
       "      <th>4</th>\n",
       "      <td>203.0</td>\n",
       "      <td>BERKELEY</td>\n",
       "      <td>Y</td>\n",
       "      <td>3.0</td>\n",
       "      <td>2</td>\n",
       "    </tr>\n",
       "  </tbody>\n",
       "</table>\n",
       "</div>"
      ],
      "text/plain": [
       "   ST_NUM    ST_NAME OWN_OCCUPIED  NUM_BEDROOMS NUM_BATH\n",
       "0   104.0     PUTNAM            Y           3.0        1\n",
       "1   197.0  LEXINGTON            N           3.0      1.5\n",
       "4   203.0   BERKELEY            Y           3.0        2"
      ]
     },
     "execution_count": 69,
     "metadata": {},
     "output_type": "execute_result"
    }
   ],
   "source": [
    "#df.dropna ---- menghapus data, hapus pilihan paling akhir\n",
    "df_2.dropna(inplace=True)\n",
    "df_2"
   ]
  },
  {
   "cell_type": "markdown",
   "id": "2cbd5dbd-4bf0-438d-9b66-cf81c2b81bc7",
   "metadata": {},
   "source": [
    "#menangani missing value dengan replacing()"
   ]
  },
  {
   "cell_type": "code",
   "execution_count": 81,
   "id": "5b8ac79b-f1ea-4d1b-bf94-25994232d46f",
   "metadata": {},
   "outputs": [
    {
     "name": "stderr",
     "output_type": "stream",
     "text": [
      "C:\\Users\\gilan\\AppData\\Local\\Temp\\ipykernel_6908\\415444502.py:2: FutureWarning: A value is trying to be set on a copy of a DataFrame or Series through chained assignment using an inplace method.\n",
      "The behavior will change in pandas 3.0. This inplace method will never work because the intermediate object on which we are setting values always behaves as a copy.\n",
      "\n",
      "For example, when doing 'df[col].method(value, inplace=True)', try using 'df.method({col: value}, inplace=True)' or df[col] = df[col].method(value) instead, to perform the operation inplace on the original object.\n",
      "\n",
      "\n",
      "  df_used[\"ST_NUM\"].fillna(125,inplace=True)\n"
     ]
    },
    {
     "data": {
      "text/plain": [
       "0    104.0\n",
       "1    197.0\n",
       "2    125.0\n",
       "3    201.0\n",
       "4    203.0\n",
       "5    207.0\n",
       "6    125.0\n",
       "7    213.0\n",
       "8    215.0\n",
       "Name: ST_NUM, dtype: float64"
      ]
     },
     "execution_count": 81,
     "metadata": {},
     "output_type": "execute_result"
    }
   ],
   "source": [
    "#df[kolom].filna(value_diisi,inplace)\n",
    "df_used[\"ST_NUM\"].fillna(125,inplace=True)\n"
   ]
  },
  {
   "cell_type": "code",
   "execution_count": 95,
   "id": "94785d3c-67dc-4cd8-ba80-aa27db357e2b",
   "metadata": {},
   "outputs": [
    {
     "data": {
      "text/plain": [
       "0    104.0\n",
       "1    197.0\n",
       "2    125.0\n",
       "3    201.0\n",
       "4    203.0\n",
       "5    207.0\n",
       "6    125.0\n",
       "7    213.0\n",
       "8    215.0\n",
       "Name: ST_NUM, dtype: float64"
      ]
     },
     "execution_count": 95,
     "metadata": {},
     "output_type": "execute_result"
    }
   ],
   "source": [
    "df_used[\"ST_NUM\"]"
   ]
  },
  {
   "cell_type": "code",
   "execution_count": 97,
   "id": "642f9695-f150-4849-bd81-6bbd44a3a449",
   "metadata": {},
   "outputs": [
    {
     "data": {
      "text/plain": [
       "0    104.0\n",
       "1    197.0\n",
       "8    215.0\n",
       "Name: ST_NUM, dtype: float64"
      ]
     },
     "execution_count": 97,
     "metadata": {},
     "output_type": "execute_result"
    }
   ],
   "source": [
    "df[\"ST_NUM\"]"
   ]
  },
  {
   "cell_type": "code",
   "execution_count": 101,
   "id": "49c6f504-8618-42b9-b3e3-80732918169d",
   "metadata": {},
   "outputs": [
    {
     "data": {
      "text/plain": [
       "201.0"
      ]
     },
     "execution_count": 101,
     "metadata": {},
     "output_type": "execute_result"
    }
   ],
   "source": [
    "df_used[\"ST_NUM\"].median()"
   ]
  },
  {
   "cell_type": "code",
   "execution_count": 103,
   "id": "8c36bd74-0fa2-4204-822e-a7da1c1ffe94",
   "metadata": {},
   "outputs": [
    {
     "data": {
      "text/plain": [
       "176.66666666666666"
      ]
     },
     "execution_count": 103,
     "metadata": {},
     "output_type": "execute_result"
    }
   ],
   "source": [
    "df_used[\"ST_NUM\"].mean()"
   ]
  },
  {
   "cell_type": "code",
   "execution_count": 105,
   "id": "63224c0f-d87f-4fa0-b2ed-0a639591a3aa",
   "metadata": {},
   "outputs": [
    {
     "data": {
      "text/plain": [
       "0    125.0\n",
       "Name: ST_NUM, dtype: float64"
      ]
     },
     "execution_count": 105,
     "metadata": {},
     "output_type": "execute_result"
    }
   ],
   "source": [
    "df_used[\"ST_NUM\"].mode() --- #nilai yang muncul terbanyak"
   ]
  },
  {
   "cell_type": "code",
   "execution_count": 107,
   "id": "37cea7a2-2675-4fa6-9053-5af9481d7c10",
   "metadata": {},
   "outputs": [
    {
     "name": "stderr",
     "output_type": "stream",
     "text": [
      "C:\\Users\\gilan\\AppData\\Local\\Temp\\ipykernel_6908\\786684707.py:1: FutureWarning: A value is trying to be set on a copy of a DataFrame or Series through chained assignment using an inplace method.\n",
      "The behavior will change in pandas 3.0. This inplace method will never work because the intermediate object on which we are setting values always behaves as a copy.\n",
      "\n",
      "For example, when doing 'df[col].method(value, inplace=True)', try using 'df.method({col: value}, inplace=True)' or df[col] = df[col].method(value) instead, to perform the operation inplace on the original object.\n",
      "\n",
      "\n",
      "  df_used[\"PID\"].fillna(df_used[\"PID\"].median(),inplace=True)\n"
     ]
    },
    {
     "data": {
      "text/html": [
       "<div>\n",
       "<style scoped>\n",
       "    .dataframe tbody tr th:only-of-type {\n",
       "        vertical-align: middle;\n",
       "    }\n",
       "\n",
       "    .dataframe tbody tr th {\n",
       "        vertical-align: top;\n",
       "    }\n",
       "\n",
       "    .dataframe thead th {\n",
       "        text-align: right;\n",
       "    }\n",
       "</style>\n",
       "<table border=\"1\" class=\"dataframe\">\n",
       "  <thead>\n",
       "    <tr style=\"text-align: right;\">\n",
       "      <th></th>\n",
       "      <th>PID</th>\n",
       "      <th>ST_NUM</th>\n",
       "      <th>ST_NAME</th>\n",
       "      <th>OWN_OCCUPIED</th>\n",
       "      <th>NUM_BEDROOMS</th>\n",
       "      <th>NUM_BATH</th>\n",
       "      <th>SQ_FT</th>\n",
       "    </tr>\n",
       "  </thead>\n",
       "  <tbody>\n",
       "    <tr>\n",
       "      <th>0</th>\n",
       "      <td>100001000.0</td>\n",
       "      <td>104.0</td>\n",
       "      <td>PUTNAM</td>\n",
       "      <td>Y</td>\n",
       "      <td>3.0</td>\n",
       "      <td>1</td>\n",
       "      <td>1000.0</td>\n",
       "    </tr>\n",
       "    <tr>\n",
       "      <th>1</th>\n",
       "      <td>100002000.0</td>\n",
       "      <td>197.0</td>\n",
       "      <td>LEXINGTON</td>\n",
       "      <td>N</td>\n",
       "      <td>3.0</td>\n",
       "      <td>1.5</td>\n",
       "      <td>NaN</td>\n",
       "    </tr>\n",
       "    <tr>\n",
       "      <th>2</th>\n",
       "      <td>100003000.0</td>\n",
       "      <td>125.0</td>\n",
       "      <td>LEXINGTON</td>\n",
       "      <td>N</td>\n",
       "      <td>NaN</td>\n",
       "      <td>1</td>\n",
       "      <td>850.0</td>\n",
       "    </tr>\n",
       "    <tr>\n",
       "      <th>3</th>\n",
       "      <td>100004000.0</td>\n",
       "      <td>201.0</td>\n",
       "      <td>BERKELEY</td>\n",
       "      <td>12</td>\n",
       "      <td>1.0</td>\n",
       "      <td>NaN</td>\n",
       "      <td>700.0</td>\n",
       "    </tr>\n",
       "    <tr>\n",
       "      <th>4</th>\n",
       "      <td>100005000.0</td>\n",
       "      <td>203.0</td>\n",
       "      <td>BERKELEY</td>\n",
       "      <td>Y</td>\n",
       "      <td>3.0</td>\n",
       "      <td>2</td>\n",
       "      <td>1600.0</td>\n",
       "    </tr>\n",
       "    <tr>\n",
       "      <th>5</th>\n",
       "      <td>100006000.0</td>\n",
       "      <td>207.0</td>\n",
       "      <td>BERKELEY</td>\n",
       "      <td>Y</td>\n",
       "      <td>NaN</td>\n",
       "      <td>1</td>\n",
       "      <td>800.0</td>\n",
       "    </tr>\n",
       "    <tr>\n",
       "      <th>6</th>\n",
       "      <td>100007000.0</td>\n",
       "      <td>125.0</td>\n",
       "      <td>WASHINGTON</td>\n",
       "      <td>NaN</td>\n",
       "      <td>2.0</td>\n",
       "      <td>HURLEY</td>\n",
       "      <td>950.0</td>\n",
       "    </tr>\n",
       "    <tr>\n",
       "      <th>7</th>\n",
       "      <td>100008000.0</td>\n",
       "      <td>213.0</td>\n",
       "      <td>TREMONT</td>\n",
       "      <td>Y</td>\n",
       "      <td>NaN</td>\n",
       "      <td>1</td>\n",
       "      <td>NaN</td>\n",
       "    </tr>\n",
       "    <tr>\n",
       "      <th>8</th>\n",
       "      <td>100009000.0</td>\n",
       "      <td>215.0</td>\n",
       "      <td>TREMONT</td>\n",
       "      <td>Y</td>\n",
       "      <td>NaN</td>\n",
       "      <td>2</td>\n",
       "      <td>1800.0</td>\n",
       "    </tr>\n",
       "  </tbody>\n",
       "</table>\n",
       "</div>"
      ],
      "text/plain": [
       "           PID  ST_NUM     ST_NAME OWN_OCCUPIED  NUM_BEDROOMS NUM_BATH   SQ_FT\n",
       "0  100001000.0   104.0      PUTNAM            Y           3.0        1  1000.0\n",
       "1  100002000.0   197.0   LEXINGTON            N           3.0      1.5     NaN\n",
       "2  100003000.0   125.0   LEXINGTON            N           NaN        1   850.0\n",
       "3  100004000.0   201.0    BERKELEY           12           1.0      NaN   700.0\n",
       "4  100005000.0   203.0    BERKELEY            Y           3.0        2  1600.0\n",
       "5  100006000.0   207.0    BERKELEY            Y           NaN        1   800.0\n",
       "6  100007000.0   125.0  WASHINGTON          NaN           2.0   HURLEY   950.0\n",
       "7  100008000.0   213.0     TREMONT            Y           NaN        1     NaN\n",
       "8  100009000.0   215.0     TREMONT            Y           NaN        2  1800.0"
      ]
     },
     "execution_count": 107,
     "metadata": {},
     "output_type": "execute_result"
    }
   ],
   "source": [
    "df_used[\"PID\"].fillna(df_used[\"PID\"].median(),inplace=True) --- #PID NO ID DATA (Panggilan)\n",
    "df_used "
   ]
  },
  {
   "cell_type": "code",
   "execution_count": 113,
   "id": "dbd5b262-bd3d-494d-8bff-340dbdf70c5d",
   "metadata": {},
   "outputs": [
    {
     "data": {
      "text/plain": [
       "100005000.0"
      ]
     },
     "execution_count": 113,
     "metadata": {},
     "output_type": "execute_result"
    }
   ],
   "source": [
    "c=df_used[\"PID\"].median()\n",
    "c"
   ]
  },
  {
   "cell_type": "markdown",
   "id": "394150c5-e02f-4a52-8d68-ef772fd362e8",
   "metadata": {},
   "source": [
    "#PRAKTIK DATA"
   ]
  },
  {
   "cell_type": "code",
   "execution_count": 41,
   "id": "70e9ba97-0d17-477d-bc3a-70b8ffd3d952",
   "metadata": {},
   "outputs": [
    {
     "data": {
      "text/html": [
       "<div>\n",
       "<style scoped>\n",
       "    .dataframe tbody tr th:only-of-type {\n",
       "        vertical-align: middle;\n",
       "    }\n",
       "\n",
       "    .dataframe tbody tr th {\n",
       "        vertical-align: top;\n",
       "    }\n",
       "\n",
       "    .dataframe thead th {\n",
       "        text-align: right;\n",
       "    }\n",
       "</style>\n",
       "<table border=\"1\" class=\"dataframe\">\n",
       "  <thead>\n",
       "    <tr style=\"text-align: right;\">\n",
       "      <th></th>\n",
       "      <th>Tanggal</th>\n",
       "      <th>Jenis Produk</th>\n",
       "      <th>Jumlah Order</th>\n",
       "      <th>Harga</th>\n",
       "      <th>Total</th>\n",
       "    </tr>\n",
       "  </thead>\n",
       "  <tbody>\n",
       "    <tr>\n",
       "      <th>0</th>\n",
       "      <td>05/08/2022</td>\n",
       "      <td>Foodpak260</td>\n",
       "      <td>1000.0</td>\n",
       "      <td>1800.0</td>\n",
       "      <td>1800000.0</td>\n",
       "    </tr>\n",
       "    <tr>\n",
       "      <th>1</th>\n",
       "      <td>05/08/2022</td>\n",
       "      <td>FoodpakMatte245</td>\n",
       "      <td>1000.0</td>\n",
       "      <td>1900.0</td>\n",
       "      <td>1900000.0</td>\n",
       "    </tr>\n",
       "    <tr>\n",
       "      <th>2</th>\n",
       "      <td>05/08/2022</td>\n",
       "      <td>CraftLaminasi290</td>\n",
       "      <td>5000.0</td>\n",
       "      <td>750.0</td>\n",
       "      <td>3750000.0</td>\n",
       "    </tr>\n",
       "    <tr>\n",
       "      <th>3</th>\n",
       "      <td>05/08/2022</td>\n",
       "      <td>CraftLaminasi290</td>\n",
       "      <td>1000.0</td>\n",
       "      <td>1200.0</td>\n",
       "      <td>1200000.0</td>\n",
       "    </tr>\n",
       "    <tr>\n",
       "      <th>4</th>\n",
       "      <td>07/08/2022</td>\n",
       "      <td>Dupleks310</td>\n",
       "      <td>1000.0</td>\n",
       "      <td>1550.0</td>\n",
       "      <td>1550000.0</td>\n",
       "    </tr>\n",
       "    <tr>\n",
       "      <th>...</th>\n",
       "      <td>...</td>\n",
       "      <td>...</td>\n",
       "      <td>...</td>\n",
       "      <td>...</td>\n",
       "      <td>...</td>\n",
       "    </tr>\n",
       "    <tr>\n",
       "      <th>1071</th>\n",
       "      <td>14/11/2023</td>\n",
       "      <td>Ivory230</td>\n",
       "      <td>1000.0</td>\n",
       "      <td>900.0</td>\n",
       "      <td>900000.0</td>\n",
       "    </tr>\n",
       "    <tr>\n",
       "      <th>1072</th>\n",
       "      <td>15/11/2023</td>\n",
       "      <td>CraftLaminasi290</td>\n",
       "      <td>2000.0</td>\n",
       "      <td>800.0</td>\n",
       "      <td>1600000.0</td>\n",
       "    </tr>\n",
       "    <tr>\n",
       "      <th>1073</th>\n",
       "      <td>15/11/2023</td>\n",
       "      <td>CraftLaminasi290</td>\n",
       "      <td>1500.0</td>\n",
       "      <td>875.0</td>\n",
       "      <td>1312500.0</td>\n",
       "    </tr>\n",
       "    <tr>\n",
       "      <th>1074</th>\n",
       "      <td>15/11/2023</td>\n",
       "      <td>FoodpakMatte</td>\n",
       "      <td>1000.0</td>\n",
       "      <td>2200.0</td>\n",
       "      <td>2200000.0</td>\n",
       "    </tr>\n",
       "    <tr>\n",
       "      <th>1075</th>\n",
       "      <td>15/11/2023</td>\n",
       "      <td>GreaseProof</td>\n",
       "      <td>1000.0</td>\n",
       "      <td>300.0</td>\n",
       "      <td>300000.0</td>\n",
       "    </tr>\n",
       "  </tbody>\n",
       "</table>\n",
       "<p>1076 rows × 5 columns</p>\n",
       "</div>"
      ],
      "text/plain": [
       "         Tanggal      Jenis Produk  Jumlah Order   Harga      Total\n",
       "0     05/08/2022        Foodpak260        1000.0  1800.0  1800000.0\n",
       "1     05/08/2022   FoodpakMatte245        1000.0  1900.0  1900000.0\n",
       "2     05/08/2022  CraftLaminasi290        5000.0   750.0  3750000.0\n",
       "3     05/08/2022  CraftLaminasi290        1000.0  1200.0  1200000.0\n",
       "4     07/08/2022        Dupleks310        1000.0  1550.0  1550000.0\n",
       "...          ...               ...           ...     ...        ...\n",
       "1071  14/11/2023          Ivory230        1000.0   900.0   900000.0\n",
       "1072  15/11/2023  CraftLaminasi290        2000.0   800.0  1600000.0\n",
       "1073  15/11/2023  CraftLaminasi290        1500.0   875.0  1312500.0\n",
       "1074  15/11/2023      FoodpakMatte        1000.0  2200.0  2200000.0\n",
       "1075  15/11/2023       GreaseProof        1000.0   300.0   300000.0\n",
       "\n",
       "[1076 rows x 5 columns]"
      ]
     },
     "execution_count": 41,
     "metadata": {},
     "output_type": "execute_result"
    }
   ],
   "source": [
    "data_jualan = pd.read_excel(\"data_penjualan-Copy.xlsx\")\n",
    "data_jualan                      "
   ]
  },
  {
   "cell_type": "code",
   "execution_count": 124,
   "id": "218b71c4-bd22-4d2d-bc70-c39b28896087",
   "metadata": {},
   "outputs": [
    {
     "data": {
      "text/plain": [
       "Tanggal          0\n",
       "Jenis Produk    20\n",
       "Jumlah Order    45\n",
       "Harga           52\n",
       "Total           54\n",
       "dtype: int64"
      ]
     },
     "execution_count": 124,
     "metadata": {},
     "output_type": "execute_result"
    }
   ],
   "source": [
    "data_jualan.isna().sum()"
   ]
  },
  {
   "cell_type": "code",
   "execution_count": null,
   "id": "480d7554-f90f-42ae-a291-fdb0fe9208be",
   "metadata": {},
   "outputs": [],
   "source": [
    "#jenis produk---> mode()\n",
    "#jumlah order --> mean()\n",
    "#harga --------> mean()\n",
    "#total --------> jumlah * harga"
   ]
  },
  {
   "cell_type": "code",
   "execution_count": 148,
   "id": "de9215be-8dd4-4a60-8095-87c818fa477b",
   "metadata": {},
   "outputs": [],
   "source": [
    "data_jualan[\"Jenis Produk\"].fillna(data_jualan[\"Jenis Produk\"].mode(),inplace=True)"
   ]
  },
  {
   "cell_type": "code",
   "execution_count": 146,
   "id": "d3e8df56-61f2-447e-93cd-2e17aa62cf7e",
   "metadata": {},
   "outputs": [],
   "source": [
    "data_jualan[\"Jumlah Order\"].fillna(data_jualan[\"Jumlah Order\"].mean(),inplace=True)\n"
   ]
  },
  {
   "cell_type": "code",
   "execution_count": 144,
   "id": "2a7579b4-e264-4076-8df1-5a6aacafb36c",
   "metadata": {},
   "outputs": [],
   "source": [
    "import warnings\n",
    "warnings.filterwarnings(\"ignore\")"
   ]
  },
  {
   "cell_type": "code",
   "execution_count": null,
   "id": "bb76ef25-e490-48a0-abb2-086b50cfbb5a",
   "metadata": {},
   "outputs": [],
   "source": [
    "data_jualan[\"Harga\"].fillna(data_jualan[\"Harga\"].mean(),inplace=True)"
   ]
  },
  {
   "cell_type": "code",
   "execution_count": null,
   "id": "6432f531-17c5-4ce5-8ccf-84e52efa683e",
   "metadata": {},
   "outputs": [],
   "source": [
    "#Harga"
   ]
  },
  {
   "cell_type": "code",
   "execution_count": 7,
   "id": "9ca1de4d-43d5-41de-acab-62a8d30f7fe0",
   "metadata": {},
   "outputs": [
    {
     "name": "stdout",
     "output_type": "stream",
     "text": [
      "Requirement already satisfied: matplotlib in c:\\users\\gilan\\anaconda3\\lib\\site-packages (3.9.2)Note: you may need to restart the kernel to use updated packages.\n",
      "\n",
      "Requirement already satisfied: contourpy>=1.0.1 in c:\\users\\gilan\\anaconda3\\lib\\site-packages (from matplotlib) (1.2.0)\n",
      "Requirement already satisfied: cycler>=0.10 in c:\\users\\gilan\\anaconda3\\lib\\site-packages (from matplotlib) (0.11.0)\n",
      "Requirement already satisfied: fonttools>=4.22.0 in c:\\users\\gilan\\anaconda3\\lib\\site-packages (from matplotlib) (4.51.0)\n",
      "Requirement already satisfied: kiwisolver>=1.3.1 in c:\\users\\gilan\\anaconda3\\lib\\site-packages (from matplotlib) (1.4.4)\n",
      "Requirement already satisfied: numpy>=1.23 in c:\\users\\gilan\\anaconda3\\lib\\site-packages (from matplotlib) (1.26.4)\n",
      "Requirement already satisfied: packaging>=20.0 in c:\\users\\gilan\\anaconda3\\lib\\site-packages (from matplotlib) (24.1)\n",
      "Requirement already satisfied: pillow>=8 in c:\\users\\gilan\\anaconda3\\lib\\site-packages (from matplotlib) (10.4.0)\n",
      "Requirement already satisfied: pyparsing>=2.3.1 in c:\\users\\gilan\\anaconda3\\lib\\site-packages (from matplotlib) (3.1.2)\n",
      "Requirement already satisfied: python-dateutil>=2.7 in c:\\users\\gilan\\anaconda3\\lib\\site-packages (from matplotlib) (2.9.0.post0)\n",
      "Requirement already satisfied: six>=1.5 in c:\\users\\gilan\\anaconda3\\lib\\site-packages (from python-dateutil>=2.7->matplotlib) (1.16.0)\n"
     ]
    }
   ],
   "source": [
    "pip install matplotlib"
   ]
  },
  {
   "cell_type": "markdown",
   "id": "b028b6c9-3e54-47f5-ac32-628057aa6ef8",
   "metadata": {},
   "source": [
    "MATPLOTLIB"
   ]
  },
  {
   "cell_type": "code",
   "execution_count": 3,
   "id": "94322fa8-711e-4106-a135-757b38e83e30",
   "metadata": {},
   "outputs": [],
   "source": [
    "import matplotlib.pyplot as plt"
   ]
  },
  {
   "cell_type": "code",
   "execution_count": null,
   "id": "9233e352-d273-4dd6-8058-d435a7c1c1d2",
   "metadata": {},
   "outputs": [],
   "source": [
    "#Visualisasi jumlah order per produk dengan barchart"
   ]
  },
  {
   "cell_type": "code",
   "execution_count": 49,
   "id": "4eb4d03d-f6e8-4f74-bb9c-5e4b5f5a936c",
   "metadata": {},
   "outputs": [],
   "source": [
    "data_jualan[\"Jenis Produk\"]=data_jualan[\"Jenis Produk\"].astype(str)\n",
    "data_jualan[\"Jumlah Order\"]=data_jualan[\"Jumlah Order\"].astype(str)"
   ]
  },
  {
   "cell_type": "code",
   "execution_count": 51,
   "id": "b74831c7-758d-4495-8608-80dc5a586df8",
   "metadata": {},
   "outputs": [
    {
     "ename": "AttributeError",
     "evalue": "module 'matplotlib.pyplot' has no attribute 'tittle'",
     "output_type": "error",
     "traceback": [
      "\u001b[1;31m---------------------------------------------------------------------------\u001b[0m",
      "\u001b[1;31mAttributeError\u001b[0m                            Traceback (most recent call last)",
      "Cell \u001b[1;32mIn[51], line 3\u001b[0m\n\u001b[0;32m      1\u001b[0m plt\u001b[38;5;241m.\u001b[39mfigure(figsize\u001b[38;5;241m=\u001b[39m(\u001b[38;5;241m8\u001b[39m,\u001b[38;5;241m5\u001b[39m))\n\u001b[0;32m      2\u001b[0m plt\u001b[38;5;241m.\u001b[39mbar(data_jualan[\u001b[38;5;124m\"\u001b[39m\u001b[38;5;124mJenis Produk\u001b[39m\u001b[38;5;124m\"\u001b[39m], data_jualan[\u001b[38;5;124m\"\u001b[39m\u001b[38;5;124mJumlah Order\u001b[39m\u001b[38;5;124m\"\u001b[39m])\n\u001b[1;32m----> 3\u001b[0m plt\u001b[38;5;241m.\u001b[39mtittle(\u001b[38;5;124m\"\u001b[39m\u001b[38;5;124mJumlah Order per Produk\u001b[39m\u001b[38;5;124m\"\u001b[39m)\n\u001b[0;32m      4\u001b[0m plt\u001b[38;5;241m.\u001b[39mxlabel(\u001b[38;5;124m\"\u001b[39m\u001b[38;5;124mJenis Produk\u001b[39m\u001b[38;5;124m\"\u001b[39m)\n\u001b[0;32m      5\u001b[0m plt\u001b[38;5;241m.\u001b[39mylabel(\u001b[38;5;124m\"\u001b[39m\u001b[38;5;124mJumlah Order\u001b[39m\u001b[38;5;124m\"\u001b[39m)\n",
      "\u001b[1;31mAttributeError\u001b[0m: module 'matplotlib.pyplot' has no attribute 'tittle'"
     ]
    },
    {
     "data": {
      "image/png": "[encoded data removed]",
      "text/plain": [
       "<Figure size 800x500 with 1 Axes>"
      ]
     },
     "metadata": {},
     "output_type": "display_data"
    }
   ],
   "source": [
    "plt.figure(figsize=(8,5))\n",
    "plt.bar(data_jualan[\"Jenis Produk\"], data_jualan[\"Jumlah Order\"])\n",
    "plt.tittle(\"Jumlah Order per Produk\")\n",
    "plt.xlabel(\"Jenis Produk\")\n",
    "plt.ylabel(\"Jumlah Order\")\n",
    "plt.show()"
   ]
  },
  {
   "cell_type": "code",
   "execution_count": 43,
   "id": "1de0680e-c3b2-4c57-bb81-01818ecef803",
   "metadata": {},
   "outputs": [
    {
     "data": {
      "text/html": [
       "<div>\n",
       "<style scoped>\n",
       "    .dataframe tbody tr th:only-of-type {\n",
       "        vertical-align: middle;\n",
       "    }\n",
       "\n",
       "    .dataframe tbody tr th {\n",
       "        vertical-align: top;\n",
       "    }\n",
       "\n",
       "    .dataframe thead th {\n",
       "        text-align: right;\n",
       "    }\n",
       "</style>\n",
       "<table border=\"1\" class=\"dataframe\">\n",
       "  <thead>\n",
       "    <tr style=\"text-align: right;\">\n",
       "      <th></th>\n",
       "      <th>Tanggal</th>\n",
       "      <th>Jenis Produk</th>\n",
       "      <th>Jumlah Order</th>\n",
       "      <th>Harga</th>\n",
       "      <th>Total</th>\n",
       "    </tr>\n",
       "  </thead>\n",
       "  <tbody>\n",
       "    <tr>\n",
       "      <th>431</th>\n",
       "      <td>21/02/2023</td>\n",
       "      <td>HVS</td>\n",
       "      <td>40000.0</td>\n",
       "      <td>250.0</td>\n",
       "      <td>10000000.0</td>\n",
       "    </tr>\n",
       "    <tr>\n",
       "      <th>62</th>\n",
       "      <td>03/09/2022</td>\n",
       "      <td>HVS</td>\n",
       "      <td>20000.0</td>\n",
       "      <td>250.0</td>\n",
       "      <td>5000000.0</td>\n",
       "    </tr>\n",
       "    <tr>\n",
       "      <th>128</th>\n",
       "      <td>07/10/2022</td>\n",
       "      <td>HVS</td>\n",
       "      <td>20000.0</td>\n",
       "      <td>250.0</td>\n",
       "      <td>5000000.0</td>\n",
       "    </tr>\n",
       "    <tr>\n",
       "      <th>197</th>\n",
       "      <td>20/11/2022</td>\n",
       "      <td>HVS</td>\n",
       "      <td>20000.0</td>\n",
       "      <td>250.0</td>\n",
       "      <td>5000000.0</td>\n",
       "    </tr>\n",
       "    <tr>\n",
       "      <th>256</th>\n",
       "      <td>07/12/2022</td>\n",
       "      <td>HVS</td>\n",
       "      <td>20000.0</td>\n",
       "      <td>250.0</td>\n",
       "      <td>5000000.0</td>\n",
       "    </tr>\n",
       "    <tr>\n",
       "      <th>345</th>\n",
       "      <td>06/01/2023</td>\n",
       "      <td>HVS</td>\n",
       "      <td>20000.0</td>\n",
       "      <td>250.0</td>\n",
       "      <td>5000000.0</td>\n",
       "    </tr>\n",
       "    <tr>\n",
       "      <th>547</th>\n",
       "      <td>29/04/2023</td>\n",
       "      <td>HVS</td>\n",
       "      <td>20000.0</td>\n",
       "      <td>250.0</td>\n",
       "      <td>5000000.0</td>\n",
       "    </tr>\n",
       "    <tr>\n",
       "      <th>684</th>\n",
       "      <td>26/06/2023</td>\n",
       "      <td>HVS</td>\n",
       "      <td>20000.0</td>\n",
       "      <td>250.0</td>\n",
       "      <td>5000000.0</td>\n",
       "    </tr>\n",
       "    <tr>\n",
       "      <th>742</th>\n",
       "      <td>19/07/2023</td>\n",
       "      <td>HVSHIJAU</td>\n",
       "      <td>20000.0</td>\n",
       "      <td>250.0</td>\n",
       "      <td>5000000.0</td>\n",
       "    </tr>\n",
       "    <tr>\n",
       "      <th>850</th>\n",
       "      <td>24/08/2023</td>\n",
       "      <td>HVS</td>\n",
       "      <td>20000.0</td>\n",
       "      <td>250.0</td>\n",
       "      <td>5000000.0</td>\n",
       "    </tr>\n",
       "  </tbody>\n",
       "</table>\n",
       "</div>"
      ],
      "text/plain": [
       "        Tanggal Jenis Produk  Jumlah Order  Harga       Total\n",
       "431  21/02/2023          HVS       40000.0  250.0  10000000.0\n",
       "62   03/09/2022          HVS       20000.0  250.0   5000000.0\n",
       "128  07/10/2022          HVS       20000.0  250.0   5000000.0\n",
       "197  20/11/2022          HVS       20000.0  250.0   5000000.0\n",
       "256  07/12/2022          HVS       20000.0  250.0   5000000.0\n",
       "345  06/01/2023          HVS       20000.0  250.0   5000000.0\n",
       "547  29/04/2023          HVS       20000.0  250.0   5000000.0\n",
       "684  26/06/2023          HVS       20000.0  250.0   5000000.0\n",
       "742  19/07/2023     HVSHIJAU       20000.0  250.0   5000000.0\n",
       "850  24/08/2023          HVS       20000.0  250.0   5000000.0"
      ]
     },
     "execution_count": 43,
     "metadata": {},
     "output_type": "execute_result"
    }
   ],
   "source": [
    "top_10_produk=data_jualan.nlargest(10,\"Jumlah Order\")\n",
    "top_10_produk"
   ]
  },
  {
   "cell_type": "code",
   "execution_count": 45,
   "id": "3f721de3-6db0-4298-9c0c-3e7ea2a0aecf",
   "metadata": {},
   "outputs": [
    {
     "data": {
      "text/html": [
       "<div>\n",
       "<style scoped>\n",
       "    .dataframe tbody tr th:only-of-type {\n",
       "        vertical-align: middle;\n",
       "    }\n",
       "\n",
       "    .dataframe tbody tr th {\n",
       "        vertical-align: top;\n",
       "    }\n",
       "\n",
       "    .dataframe thead th {\n",
       "        text-align: right;\n",
       "    }\n",
       "</style>\n",
       "<table border=\"1\" class=\"dataframe\">\n",
       "  <thead>\n",
       "    <tr style=\"text-align: right;\">\n",
       "      <th></th>\n",
       "      <th>Tanggal</th>\n",
       "      <th>Jenis Produk</th>\n",
       "      <th>Jumlah Order</th>\n",
       "      <th>Harga</th>\n",
       "      <th>Total</th>\n",
       "    </tr>\n",
       "  </thead>\n",
       "  <tbody>\n",
       "    <tr>\n",
       "      <th>740</th>\n",
       "      <td>17/07/2023</td>\n",
       "      <td>KertasStiker</td>\n",
       "      <td>5.0</td>\n",
       "      <td>15000.0</td>\n",
       "      <td>NaN</td>\n",
       "    </tr>\n",
       "    <tr>\n",
       "      <th>882</th>\n",
       "      <td>02/09/2023</td>\n",
       "      <td>KertasStiker</td>\n",
       "      <td>5.0</td>\n",
       "      <td>15000.0</td>\n",
       "      <td>75000.0</td>\n",
       "    </tr>\n",
       "    <tr>\n",
       "      <th>931</th>\n",
       "      <td>22/09/2023</td>\n",
       "      <td>KertasStikerA3</td>\n",
       "      <td>5.0</td>\n",
       "      <td>15000.0</td>\n",
       "      <td>75000.0</td>\n",
       "    </tr>\n",
       "    <tr>\n",
       "      <th>729</th>\n",
       "      <td>14/07/2023</td>\n",
       "      <td>KertasStiker</td>\n",
       "      <td>6.0</td>\n",
       "      <td>15000.0</td>\n",
       "      <td>90000.0</td>\n",
       "    </tr>\n",
       "    <tr>\n",
       "      <th>649</th>\n",
       "      <td>12/06/2023</td>\n",
       "      <td>StikerKertas</td>\n",
       "      <td>8.0</td>\n",
       "      <td>15000.0</td>\n",
       "      <td>120000.0</td>\n",
       "    </tr>\n",
       "    <tr>\n",
       "      <th>650</th>\n",
       "      <td>12/06/2023</td>\n",
       "      <td>StikerKertas</td>\n",
       "      <td>20.0</td>\n",
       "      <td>15000.0</td>\n",
       "      <td>300000.0</td>\n",
       "    </tr>\n",
       "    <tr>\n",
       "      <th>414</th>\n",
       "      <td>13/02/2023</td>\n",
       "      <td>KertasFolio</td>\n",
       "      <td>50.0</td>\n",
       "      <td>12000.0</td>\n",
       "      <td>600000.0</td>\n",
       "    </tr>\n",
       "    <tr>\n",
       "      <th>923</th>\n",
       "      <td>19/09/2023</td>\n",
       "      <td>NCR</td>\n",
       "      <td>50.0</td>\n",
       "      <td>12000.0</td>\n",
       "      <td>600000.0</td>\n",
       "    </tr>\n",
       "    <tr>\n",
       "      <th>158</th>\n",
       "      <td>24/10/2022</td>\n",
       "      <td>PTSariIndahPackagingIndustry</td>\n",
       "      <td>100.0</td>\n",
       "      <td>3500.0</td>\n",
       "      <td>350000.0</td>\n",
       "    </tr>\n",
       "    <tr>\n",
       "      <th>288</th>\n",
       "      <td>15/12/2022</td>\n",
       "      <td>PTSARIINDAH</td>\n",
       "      <td>100.0</td>\n",
       "      <td>3000.0</td>\n",
       "      <td>300000.0</td>\n",
       "    </tr>\n",
       "  </tbody>\n",
       "</table>\n",
       "</div>"
      ],
      "text/plain": [
       "        Tanggal                  Jenis Produk  Jumlah Order    Harga     Total\n",
       "740  17/07/2023                  KertasStiker           5.0  15000.0       NaN\n",
       "882  02/09/2023                  KertasStiker           5.0  15000.0   75000.0\n",
       "931  22/09/2023                KertasStikerA3           5.0  15000.0   75000.0\n",
       "729  14/07/2023                  KertasStiker           6.0  15000.0   90000.0\n",
       "649  12/06/2023                  StikerKertas           8.0  15000.0  120000.0\n",
       "650  12/06/2023                  StikerKertas          20.0  15000.0  300000.0\n",
       "414  13/02/2023                   KertasFolio          50.0  12000.0  600000.0\n",
       "923  19/09/2023                           NCR          50.0  12000.0  600000.0\n",
       "158  24/10/2022  PTSariIndahPackagingIndustry         100.0   3500.0  350000.0\n",
       "288  15/12/2022                   PTSARIINDAH         100.0   3000.0  300000.0"
      ]
     },
     "execution_count": 45,
     "metadata": {},
     "output_type": "execute_result"
    }
   ],
   "source": [
    "top_10_produk_kecil=data_jualan.nsmallest(10,\"Jumlah Order\")\n",
    "top_10_produk_kecil"
   ]
  },
  {
   "cell_type": "code",
   "execution_count": 65,
   "id": "2acf5436-a9e9-46c3-9fd8-3d992a6b3fcc",
   "metadata": {},
   "outputs": [
    {
     "data": {
      "image/png": "[encoded data removed]",
      "text/plain": [
       "<Figure size 1000x500 with 1 Axes>"
      ]
     },
     "metadata": {},
     "output_type": "display_data"
    }
   ],
   "source": [
    "plt.figure(figsize=(10,5))\n",
    "plt.bar(top_10_produk[\"Jenis Produk\"],top_10_produk[\"Jumlah Order\"])\n",
    "plt.title(\"TOP 10 PRODUK\")\n",
    "plt.xlabel(\"Nama Produk\")\n",
    "plt.ylabel(\"Jumlah Order\")\n",
    "plt.xticks(rotation=45)\n",
    "plt.show()"
   ]
  },
  {
   "cell_type": "code",
   "execution_count": 67,
   "id": "bd67703e-8289-4f8c-9a95-21eccb30c7ef",
   "metadata": {
    "scrolled": true
   },
   "outputs": [
    {
     "data": {
      "image/png": "[encoded data removed]",
      "text/plain": [
       "<Figure size 1000x500 with 1 Axes>"
      ]
     },
     "metadata": {},
     "output_type": "display_data"
    }
   ],
   "source": [
    "plt.figure(figsize=(10,5))\n",
    "plt.bar(top_10_produk_kecil[\"Jenis Produk\"],top_10_produk_kecil[\"Jumlah Order\"], color=\"LightCoral\")\n",
    "plt.title(\"TOP 10 PRODUK\")\n",
    "plt.xlabel(\"Nama Produk\")\n",
    "plt.ylabel(\"Jumlah Order\")\n",
    "plt.xticks(rotation=45)\n",
    "plt.show()"
   ]
  },
  {
   "cell_type": "code",
   "execution_count": null,
   "id": "4a661b3c-53ad-435b-8144-b2ccaa9470fe",
   "metadata": {},
   "outputs": [],
   "source": [
    "produk_hvs_tahunan[\"Tanggal\"] = pd.to_datetime(produk_hvs_tahunan[\"Tanggal\"], format=\"%d/%m/%Y\")"
   ]
  },
  {
   "cell_type": "code",
   "execution_count": 107,
   "id": "5531ef2d-1e4c-4f64-aea5-c88e1b50fa87",
   "metadata": {},
   "outputs": [],
   "source": [
    "penjualan_per_bulan = { \n",
    "    'Bulan': ['Januari', 'Februari', 'Maret', 'April', 'Mei', 'Juni', 'Juli', 'Agustus', 'September', 'Oktober', 'November', 'Desember'],\n",
    "    'Penjualan': [100, 150, 120, 180, 200, 170, 250, 220, 210, 180, 230, 300]\n",
    "}"
   ]
  },
  {
   "cell_type": "code",
   "execution_count": 113,
   "id": "db6a5371-8a22-4740-8341-03a00d079978",
   "metadata": {},
   "outputs": [
    {
     "data": {
      "text/plain": [
       "{'Bulan': ['Januari',\n",
       "  'Februari',\n",
       "  'Maret',\n",
       "  'April',\n",
       "  'Mei',\n",
       "  'Juni',\n",
       "  'Juli',\n",
       "  'Agustus',\n",
       "  'September',\n",
       "  'Oktober',\n",
       "  'November',\n",
       "  'Desember'],\n",
       " 'Penjualan': [100, 150, 120, 180, 200, 170, 250, 220, 210, 180, 230, 300]}"
      ]
     },
     "execution_count": 113,
     "metadata": {},
     "output_type": "execute_result"
    }
   ],
   "source": [
    "penjualan_per_bulan"
   ]
  },
  {
   "cell_type": "code",
   "execution_count": 121,
   "id": "6cf7d33d-df76-4f5c-9527-bce087a0284e",
   "metadata": {},
   "outputs": [
    {
     "ename": "AttributeError",
     "evalue": "module 'pandas' has no attribute 'dataframe'",
     "output_type": "error",
     "traceback": [
      "\u001b[1;31m---------------------------------------------------------------------------\u001b[0m",
      "\u001b[1;31mAttributeError\u001b[0m                            Traceback (most recent call last)",
      "Cell \u001b[1;32mIn[121], line 1\u001b[0m\n\u001b[1;32m----> 1\u001b[0m penjualan_df \u001b[38;5;241m=\u001b[39m pd\u001b[38;5;241m.\u001b[39mdataframe(penjualan_per_bulan)\n\u001b[0;32m      2\u001b[0m penjualan_df\n",
      "\u001b[1;31mAttributeError\u001b[0m: module 'pandas' has no attribute 'dataframe'"
     ]
    }
   ],
   "source": [
    "penjualan_df = pd.dataframe(penjualan_per_bulan)\n",
    "penjualan_df"
   ]
  },
  {
   "cell_type": "code",
   "execution_count": 103,
   "id": "8c76af59-5dba-495b-8516-b20a6fdacaf6",
   "metadata": {},
   "outputs": [
    {
     "ename": "NameError",
     "evalue": "name 'penjualan_df' is not defined",
     "output_type": "error",
     "traceback": [
      "\u001b[1;31m---------------------------------------------------------------------------\u001b[0m",
      "\u001b[1;31mNameError\u001b[0m                                 Traceback (most recent call last)",
      "Cell \u001b[1;32mIn[103], line 4\u001b[0m\n\u001b[0;32m      1\u001b[0m plt\u001b[38;5;241m.\u001b[39mfigure(figsize\u001b[38;5;241m=\u001b[39m(\u001b[38;5;241m10\u001b[39m,\u001b[38;5;241m5\u001b[39m))\n\u001b[0;32m      3\u001b[0m \u001b[38;5;66;03m#Line chart ?\u001b[39;00m\n\u001b[1;32m----> 4\u001b[0m plt\u001b[38;5;241m.\u001b[39mplot(penjualan_df[\u001b[38;5;124m\"\u001b[39m\u001b[38;5;124mBulan\u001b[39m\u001b[38;5;124m\"\u001b[39m],penjualan_df[\u001b[38;5;124m\"\u001b[39m\u001b[38;5;124mPenjualan\u001b[39m\u001b[38;5;124m\"\u001b[39m], label\u001b[38;5;241m=\u001b[39m\u001b[38;5;124m\"\u001b[39m\u001b[38;5;124mPenjualan_bulanan\u001b[39m\u001b[38;5;124m\"\u001b[39m,marker\u001b[38;5;241m=\u001b[39m\u001b[38;5;124m\"\u001b[39m\u001b[38;5;124mo\u001b[39m\u001b[38;5;124m\"\u001b[39m,\n\u001b[0;32m      5\u001b[0m          linestyle\u001b[38;5;241m=\u001b[39m\u001b[38;5;124m\"\u001b[39m\u001b[38;5;124m-\u001b[39m\u001b[38;5;124m\"\u001b[39m,\n\u001b[0;32m      6\u001b[0m          color\u001b[38;5;241m=\u001b[39m\u001b[38;5;124m\"\u001b[39m\u001b[38;5;124mred\u001b[39m\u001b[38;5;124m\"\u001b[39m)\n\u001b[0;32m      7\u001b[0m plt\u001b[38;5;241m.\u001b[39mleged()\n\u001b[0;32m      8\u001b[0m plt\u001b[38;5;241m.\u001b[39mxticks(rotation\u001b[38;5;241m=\u001b[39m\u001b[38;5;241m45\u001b[39m)\n",
      "\u001b[1;31mNameError\u001b[0m: name 'penjualan_df' is not defined"
     ]
    },
    {
     "data": {
      "text/plain": [
       "<Figure size 1000x500 with 0 Axes>"
      ]
     },
     "metadata": {},
     "output_type": "display_data"
    }
   ],
   "source": [
    "plt.figure(figsize=(10,5))\n",
    "\n",
    "#Line chart ?\n",
    "plt.plot(penjualan_df[\"Bulan\"],penjualan_df[\"Penjualan\"], label=\"Penjualan_bulanan\",marker=\"o\",\n",
    "         linestyle=\"-\",\n",
    "         color=\"red\")\n",
    "plt.leged()\n",
    "plt.xticks(rotation=45)\n",
    "plt.show()\n",
    "         "
   ]
  },
  {
   "cell_type": "code",
   "execution_count": null,
   "id": "91674f36-7d8a-46f0-ac08-32a9fc115868",
   "metadata": {},
   "outputs": [],
   "source": [
    "2022-2023 buat line chart perbulan \n",
    "bandingkan dengan barang lainnya"
   ]
  },
  {
   "cell_type": "code",
   "execution_count": null,
   "id": "530bed34-bf89-4252-9143-bbaf4dc90ef0",
   "metadata": {},
   "outputs": [],
   "source": [
    "ka maaf boleh minta tolong share recordnya lebih awal ga ka ? tadi ketinggalan ka banyak yg  eror"
   ]
  },
  {
   "cell_type": "code",
   "execution_count": null,
   "id": "3188c88a-3f32-4414-928a-0a6bdebfb088",
   "metadata": {},
   "outputs": [],
   "source": [
    "tambahan cari 2 masalah lagi"
   ]
  },
  {
   "cell_type": "code",
   "execution_count": null,
   "id": "dc8026c6-d73c-48d5-a2d2-00eb4631fa2b",
   "metadata": {},
   "outputs": [],
   "source": [
    "https://www.linkedin.com/posts/nicholausverdhy_final-task-rakamin-academy-x-hci-activity-7180670358725832704-Bu5g/?utm_source=share&utm_medium=member_desktop"
   ]
  }
 ],
 "metadata": {
  "kernelspec": {
   "display_name": "Python [conda env:base] *",
   "language": "python",
   "name": "conda-base-py"
  },
  "language_info": {
   "codemirror_mode": {
    "name": "ipython",
    "version": 3
   },
   "file_extension": ".py",
   "mimetype": "text/x-python",
   "name": "python",
   "nbconvert_exporter": "python",
   "pygments_lexer": "ipython3",
   "version": "3.12.7"
  }
 },
 "nbformat": 4,
 "nbformat_minor": 5
}
