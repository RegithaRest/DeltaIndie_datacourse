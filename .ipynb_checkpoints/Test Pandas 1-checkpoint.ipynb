{
 "cells": [
  {
   "cell_type": "code",
   "execution_count": 1,
   "id": "64c28a80-cc9e-4e9e-88ed-8170398d38a5",
   "metadata": {},
   "outputs": [],
   "source": [
    "import pandas as pd\n",
    "import numpy as np\n",
    "import datetime as dt"
   ]
  },
  {
   "cell_type": "code",
   "execution_count": 2,
   "id": "8c3fdb84-044c-48a8-94f0-c8ddff1eb498",
   "metadata": {},
   "outputs": [
    {
     "data": {
      "text/html": [
       "<div>\n",
       "<style scoped>\n",
       "    .dataframe tbody tr th:only-of-type {\n",
       "        vertical-align: middle;\n",
       "    }\n",
       "\n",
       "    .dataframe tbody tr th {\n",
       "        vertical-align: top;\n",
       "    }\n",
       "\n",
       "    .dataframe thead th {\n",
       "        text-align: right;\n",
       "    }\n",
       "</style>\n",
       "<table border=\"1\" class=\"dataframe\">\n",
       "  <thead>\n",
       "    <tr style=\"text-align: right;\">\n",
       "      <th></th>\n",
       "      <th>Tanggal</th>\n",
       "      <th>Jenis Produk</th>\n",
       "      <th>Jumlah Order</th>\n",
       "      <th>Harga</th>\n",
       "      <th>Total</th>\n",
       "    </tr>\n",
       "  </thead>\n",
       "  <tbody>\n",
       "    <tr>\n",
       "      <th>0</th>\n",
       "      <td>05/08/2022</td>\n",
       "      <td>Foodpak260</td>\n",
       "      <td>1000</td>\n",
       "      <td>1800</td>\n",
       "      <td>1800000</td>\n",
       "    </tr>\n",
       "    <tr>\n",
       "      <th>1</th>\n",
       "      <td>05/08/2022</td>\n",
       "      <td>FoodpakMatte245</td>\n",
       "      <td>1000</td>\n",
       "      <td>1900</td>\n",
       "      <td>1900000</td>\n",
       "    </tr>\n",
       "    <tr>\n",
       "      <th>2</th>\n",
       "      <td>05/08/2022</td>\n",
       "      <td>CraftLaminasi290</td>\n",
       "      <td>5000</td>\n",
       "      <td>750</td>\n",
       "      <td>3750000</td>\n",
       "    </tr>\n",
       "    <tr>\n",
       "      <th>3</th>\n",
       "      <td>05/08/2022</td>\n",
       "      <td>CraftLaminasi290</td>\n",
       "      <td>1000</td>\n",
       "      <td>1200</td>\n",
       "      <td>1200000</td>\n",
       "    </tr>\n",
       "    <tr>\n",
       "      <th>4</th>\n",
       "      <td>07/08/2022</td>\n",
       "      <td>Dupleks310</td>\n",
       "      <td>1000</td>\n",
       "      <td>1550</td>\n",
       "      <td>1550000</td>\n",
       "    </tr>\n",
       "    <tr>\n",
       "      <th>...</th>\n",
       "      <td>...</td>\n",
       "      <td>...</td>\n",
       "      <td>...</td>\n",
       "      <td>...</td>\n",
       "      <td>...</td>\n",
       "    </tr>\n",
       "    <tr>\n",
       "      <th>1071</th>\n",
       "      <td>14/11/2023</td>\n",
       "      <td>Ivory230</td>\n",
       "      <td>1000</td>\n",
       "      <td>900</td>\n",
       "      <td>900000</td>\n",
       "    </tr>\n",
       "    <tr>\n",
       "      <th>1072</th>\n",
       "      <td>15/11/2023</td>\n",
       "      <td>CraftLaminasi290</td>\n",
       "      <td>2000</td>\n",
       "      <td>800</td>\n",
       "      <td>1600000</td>\n",
       "    </tr>\n",
       "    <tr>\n",
       "      <th>1073</th>\n",
       "      <td>15/11/2023</td>\n",
       "      <td>CraftLaminasi290</td>\n",
       "      <td>1500</td>\n",
       "      <td>875</td>\n",
       "      <td>1312500</td>\n",
       "    </tr>\n",
       "    <tr>\n",
       "      <th>1074</th>\n",
       "      <td>15/11/2023</td>\n",
       "      <td>FoodpakMatte</td>\n",
       "      <td>1000</td>\n",
       "      <td>2200</td>\n",
       "      <td>2200000</td>\n",
       "    </tr>\n",
       "    <tr>\n",
       "      <th>1075</th>\n",
       "      <td>15/11/2023</td>\n",
       "      <td>GreaseProof</td>\n",
       "      <td>1000</td>\n",
       "      <td>300</td>\n",
       "      <td>300000</td>\n",
       "    </tr>\n",
       "  </tbody>\n",
       "</table>\n",
       "<p>1076 rows × 5 columns</p>\n",
       "</div>"
      ],
      "text/plain": [
       "         Tanggal      Jenis Produk  Jumlah Order  Harga    Total\n",
       "0     05/08/2022        Foodpak260          1000   1800  1800000\n",
       "1     05/08/2022   FoodpakMatte245          1000   1900  1900000\n",
       "2     05/08/2022  CraftLaminasi290          5000    750  3750000\n",
       "3     05/08/2022  CraftLaminasi290          1000   1200  1200000\n",
       "4     07/08/2022        Dupleks310          1000   1550  1550000\n",
       "...          ...               ...           ...    ...      ...\n",
       "1071  14/11/2023          Ivory230          1000    900   900000\n",
       "1072  15/11/2023  CraftLaminasi290          2000    800  1600000\n",
       "1073  15/11/2023  CraftLaminasi290          1500    875  1312500\n",
       "1074  15/11/2023      FoodpakMatte          1000   2200  2200000\n",
       "1075  15/11/2023       GreaseProof          1000    300   300000\n",
       "\n",
       "[1076 rows x 5 columns]"
      ]
     },
     "execution_count": 2,
     "metadata": {},
     "output_type": "execute_result"
    }
   ],
   "source": [
    "df = pd.read_csv(\"data_penjualan.csv\",delimiter=\";\")\n",
    "df"
   ]
  },
  {
   "cell_type": "markdown",
   "id": "b3a1b189-eafe-4d94-8243-fc325f005c5c",
   "metadata": {},
   "source": [
    "#Soal\n",
    "1. Hitung rata rata penjualan dari produk kalian!\n",
    "2. Di tanggal berapakah transaksi termahal terjadi?\n",
    "3. Berapakah jumlah orderan terbanyak di produk kamu?\n",
    "4. Berapa nilai terendah tadi total pembelian yang terjadi di bulan 10 tahun 2023?\n",
    "5. Di tanggal berapa nilai harga barangmu tertinggi?"
   ]
  },
  {
   "cell_type": "code",
   "execution_count": 4,
   "id": "d7360362-7f27-4ca2-950e-b34f1546c550",
   "metadata": {},
   "outputs": [
    {
     "data": {
      "text/plain": [
       "Jumlah Order    1.519231e+03\n",
       "Total           2.915064e+06\n",
       "dtype: float64"
      ]
     },
     "execution_count": 4,
     "metadata": {},
     "output_type": "execute_result"
    }
   ],
   "source": [
    "#1\n",
    "df.loc[df['Jenis Produk']=='Dupleks350',[\"Jumlah Order\",\"Total\"]].mean()"
   ]
  },
  {
   "cell_type": "code",
   "execution_count": 5,
   "id": "83e18c31-f729-4873-8990-2f0ff492177c",
   "metadata": {},
   "outputs": [
    {
     "data": {
      "text/plain": [
       "Tanggal         31/07/2023\n",
       "Jumlah Order          3500\n",
       "Total              7000000\n",
       "dtype: object"
      ]
     },
     "execution_count": 5,
     "metadata": {},
     "output_type": "execute_result"
    }
   ],
   "source": [
    "#2\n",
    "df.loc[df['Jenis Produk']=='Dupleks350',[\"Tanggal\",\"Jumlah Order\",\"Total\"]].max()"
   ]
  },
  {
   "cell_type": "code",
   "execution_count": 6,
   "id": "ba532b76-b78b-4e2b-ad50-697217b9b884",
   "metadata": {},
   "outputs": [
    {
     "data": {
      "text/plain": [
       "Jumlah Order       3500\n",
       "Harga              5500\n",
       "Total           7000000\n",
       "dtype: int64"
      ]
     },
     "execution_count": 6,
     "metadata": {},
     "output_type": "execute_result"
    }
   ],
   "source": [
    "#3\n",
    "df.loc[df['Jenis Produk']=='Dupleks350',[\"Jumlah Order\",\"Harga\",\"Total\"]].max()"
   ]
  },
  {
   "cell_type": "code",
   "execution_count": 7,
   "id": "fb2deb21-e43a-4d8c-ab88-6e2d1fc77ea7",
   "metadata": {},
   "outputs": [
    {
     "data": {
      "text/plain": [
       "Tanggal    31/07/2023\n",
       "Harga            5500\n",
       "dtype: object"
      ]
     },
     "execution_count": 7,
     "metadata": {},
     "output_type": "execute_result"
    }
   ],
   "source": [
    "#5\n",
    "df.loc[df['Jenis Produk']=='Dupleks350',[\"Tanggal\",\"Harga\"]].max()"
   ]
  },
  {
   "cell_type": "code",
   "execution_count": 8,
   "id": "6d59b969-152d-4918-bce4-7fee39fc4fd4",
   "metadata": {},
   "outputs": [
    {
     "data": {
      "text/html": [
       "<div>\n",
       "<style scoped>\n",
       "    .dataframe tbody tr th:only-of-type {\n",
       "        vertical-align: middle;\n",
       "    }\n",
       "\n",
       "    .dataframe tbody tr th {\n",
       "        vertical-align: top;\n",
       "    }\n",
       "\n",
       "    .dataframe thead th {\n",
       "        text-align: right;\n",
       "    }\n",
       "</style>\n",
       "<table border=\"1\" class=\"dataframe\">\n",
       "  <thead>\n",
       "    <tr style=\"text-align: right;\">\n",
       "      <th></th>\n",
       "      <th>Tanggal</th>\n",
       "      <th>Jenis Produk</th>\n",
       "      <th>Jumlah Order</th>\n",
       "      <th>Harga</th>\n",
       "      <th>Total</th>\n",
       "    </tr>\n",
       "  </thead>\n",
       "  <tbody>\n",
       "    <tr>\n",
       "      <th>9</th>\n",
       "      <td>09/08/2022</td>\n",
       "      <td>Dupleks350</td>\n",
       "      <td>500</td>\n",
       "      <td>1800</td>\n",
       "      <td>900000</td>\n",
       "    </tr>\n",
       "    <tr>\n",
       "      <th>10</th>\n",
       "      <td>09/08/2022</td>\n",
       "      <td>Dupleks350</td>\n",
       "      <td>500</td>\n",
       "      <td>1800</td>\n",
       "      <td>900000</td>\n",
       "    </tr>\n",
       "    <tr>\n",
       "      <th>14</th>\n",
       "      <td>11/08/2022</td>\n",
       "      <td>Dupleks350</td>\n",
       "      <td>500</td>\n",
       "      <td>1800</td>\n",
       "      <td>900000</td>\n",
       "    </tr>\n",
       "    <tr>\n",
       "      <th>15</th>\n",
       "      <td>11/08/2022</td>\n",
       "      <td>Dupleks350</td>\n",
       "      <td>500</td>\n",
       "      <td>1800</td>\n",
       "      <td>900000</td>\n",
       "    </tr>\n",
       "    <tr>\n",
       "      <th>19</th>\n",
       "      <td>12/08/2022</td>\n",
       "      <td>Dupleks350</td>\n",
       "      <td>1000</td>\n",
       "      <td>2200</td>\n",
       "      <td>2200000</td>\n",
       "    </tr>\n",
       "    <tr>\n",
       "      <th>...</th>\n",
       "      <td>...</td>\n",
       "      <td>...</td>\n",
       "      <td>...</td>\n",
       "      <td>...</td>\n",
       "      <td>...</td>\n",
       "    </tr>\n",
       "    <tr>\n",
       "      <th>1059</th>\n",
       "      <td>11/11/2023</td>\n",
       "      <td>Dupleks350</td>\n",
       "      <td>1000</td>\n",
       "      <td>1700</td>\n",
       "      <td>1700000</td>\n",
       "    </tr>\n",
       "    <tr>\n",
       "      <th>1060</th>\n",
       "      <td>11/11/2023</td>\n",
       "      <td>Dupleks350</td>\n",
       "      <td>3500</td>\n",
       "      <td>2000</td>\n",
       "      <td>7000000</td>\n",
       "    </tr>\n",
       "    <tr>\n",
       "      <th>1061</th>\n",
       "      <td>11/11/2023</td>\n",
       "      <td>Dupleks350</td>\n",
       "      <td>3500</td>\n",
       "      <td>1900</td>\n",
       "      <td>6650000</td>\n",
       "    </tr>\n",
       "    <tr>\n",
       "      <th>1062</th>\n",
       "      <td>11/11/2023</td>\n",
       "      <td>Dupleks350</td>\n",
       "      <td>3000</td>\n",
       "      <td>1600</td>\n",
       "      <td>4800000</td>\n",
       "    </tr>\n",
       "    <tr>\n",
       "      <th>1064</th>\n",
       "      <td>13/11/2023</td>\n",
       "      <td>Dupleks350</td>\n",
       "      <td>2000</td>\n",
       "      <td>1600</td>\n",
       "      <td>3200000</td>\n",
       "    </tr>\n",
       "  </tbody>\n",
       "</table>\n",
       "<p>78 rows × 5 columns</p>\n",
       "</div>"
      ],
      "text/plain": [
       "         Tanggal Jenis Produk  Jumlah Order  Harga    Total\n",
       "9     09/08/2022   Dupleks350           500   1800   900000\n",
       "10    09/08/2022   Dupleks350           500   1800   900000\n",
       "14    11/08/2022   Dupleks350           500   1800   900000\n",
       "15    11/08/2022   Dupleks350           500   1800   900000\n",
       "19    12/08/2022   Dupleks350          1000   2200  2200000\n",
       "...          ...          ...           ...    ...      ...\n",
       "1059  11/11/2023   Dupleks350          1000   1700  1700000\n",
       "1060  11/11/2023   Dupleks350          3500   2000  7000000\n",
       "1061  11/11/2023   Dupleks350          3500   1900  6650000\n",
       "1062  11/11/2023   Dupleks350          3000   1600  4800000\n",
       "1064  13/11/2023   Dupleks350          2000   1600  3200000\n",
       "\n",
       "[78 rows x 5 columns]"
      ]
     },
     "execution_count": 8,
     "metadata": {},
     "output_type": "execute_result"
    }
   ],
   "source": [
    "#4\n",
    "dp=df.loc[df[\"Jenis Produk\"]==\"Dupleks350\"]\n",
    "dp"
   ]
  },
  {
   "cell_type": "code",
   "execution_count": 9,
   "id": "633234f9-ed31-4f28-a8ec-b8dd99adb415",
   "metadata": {},
   "outputs": [
    {
     "name": "stderr",
     "output_type": "stream",
     "text": [
      "C:\\Users\\gilan\\AppData\\Local\\Temp\\ipykernel_6476\\437641667.py:1: SettingWithCopyWarning: \n",
      "A value is trying to be set on a copy of a slice from a DataFrame.\n",
      "Try using .loc[row_indexer,col_indexer] = value instead\n",
      "\n",
      "See the caveats in the documentation: https://pandas.pydata.org/pandas-docs/stable/user_guide/indexing.html#returning-a-view-versus-a-copy\n",
      "  dp['Tanggal'] = pd.to_datetime(dp['Tanggal'], format='%d/%m/%Y', errors='coerce')\n"
     ]
    }
   ],
   "source": [
    "dp['Tanggal'] = pd.to_datetime(dp['Tanggal'], format='%d/%m/%Y', errors='coerce')"
   ]
  },
  {
   "cell_type": "code",
   "execution_count": 10,
   "id": "a9dee42d-fb33-4871-9223-6b5767cd81e3",
   "metadata": {},
   "outputs": [
    {
     "data": {
      "text/html": [
       "<div>\n",
       "<style scoped>\n",
       "    .dataframe tbody tr th:only-of-type {\n",
       "        vertical-align: middle;\n",
       "    }\n",
       "\n",
       "    .dataframe tbody tr th {\n",
       "        vertical-align: top;\n",
       "    }\n",
       "\n",
       "    .dataframe thead th {\n",
       "        text-align: right;\n",
       "    }\n",
       "</style>\n",
       "<table border=\"1\" class=\"dataframe\">\n",
       "  <thead>\n",
       "    <tr style=\"text-align: right;\">\n",
       "      <th></th>\n",
       "      <th>Tanggal</th>\n",
       "      <th>Jenis Produk</th>\n",
       "      <th>Jumlah Order</th>\n",
       "      <th>Harga</th>\n",
       "      <th>Total</th>\n",
       "    </tr>\n",
       "  </thead>\n",
       "  <tbody>\n",
       "    <tr>\n",
       "      <th>956</th>\n",
       "      <td>2023-10-05</td>\n",
       "      <td>Dupleks350</td>\n",
       "      <td>2000</td>\n",
       "      <td>1975</td>\n",
       "      <td>3950000</td>\n",
       "    </tr>\n",
       "    <tr>\n",
       "      <th>963</th>\n",
       "      <td>2023-10-08</td>\n",
       "      <td>Dupleks350</td>\n",
       "      <td>2000</td>\n",
       "      <td>1800</td>\n",
       "      <td>3600000</td>\n",
       "    </tr>\n",
       "    <tr>\n",
       "      <th>979</th>\n",
       "      <td>2023-10-12</td>\n",
       "      <td>Dupleks350</td>\n",
       "      <td>2500</td>\n",
       "      <td>1800</td>\n",
       "      <td>4500000</td>\n",
       "    </tr>\n",
       "    <tr>\n",
       "      <th>990</th>\n",
       "      <td>2023-10-16</td>\n",
       "      <td>Dupleks350</td>\n",
       "      <td>2000</td>\n",
       "      <td>1500</td>\n",
       "      <td>3000000</td>\n",
       "    </tr>\n",
       "    <tr>\n",
       "      <th>1027</th>\n",
       "      <td>2023-10-30</td>\n",
       "      <td>Dupleks350</td>\n",
       "      <td>1000</td>\n",
       "      <td>3000</td>\n",
       "      <td>3000000</td>\n",
       "    </tr>\n",
       "    <tr>\n",
       "      <th>1028</th>\n",
       "      <td>2023-10-30</td>\n",
       "      <td>Dupleks350</td>\n",
       "      <td>3000</td>\n",
       "      <td>250</td>\n",
       "      <td>750000</td>\n",
       "    </tr>\n",
       "  </tbody>\n",
       "</table>\n",
       "</div>"
      ],
      "text/plain": [
       "        Tanggal Jenis Produk  Jumlah Order  Harga    Total\n",
       "956  2023-10-05   Dupleks350          2000   1975  3950000\n",
       "963  2023-10-08   Dupleks350          2000   1800  3600000\n",
       "979  2023-10-12   Dupleks350          2500   1800  4500000\n",
       "990  2023-10-16   Dupleks350          2000   1500  3000000\n",
       "1027 2023-10-30   Dupleks350          1000   3000  3000000\n",
       "1028 2023-10-30   Dupleks350          3000    250   750000"
      ]
     },
     "execution_count": 10,
     "metadata": {},
     "output_type": "execute_result"
    }
   ],
   "source": [
    "october_2023_data = dp[(dp['Tanggal'].dt.year == 2023) & (dp['Tanggal'].dt.month == 10)]\n",
    "october_2023_data"
   ]
  },
  {
   "cell_type": "code",
   "execution_count": 11,
   "id": "96ab1e98-7a0f-49de-909a-2b482d19b88e",
   "metadata": {},
   "outputs": [
    {
     "data": {
      "text/plain": [
       "750000"
      ]
     },
     "execution_count": 11,
     "metadata": {},
     "output_type": "execute_result"
    }
   ],
   "source": [
    "min_total_dupleks350 = october_2023_data['Total'].min()\n",
    "min_total_dupleks350"
   ]
  },
  {
   "cell_type": "code",
   "execution_count": 22,
   "id": "ba6295b3-e43d-4353-8c0d-690c95e77680",
   "metadata": {},
   "outputs": [
    {
     "data": {
      "text/html": [
       "<div>\n",
       "<style scoped>\n",
       "    .dataframe tbody tr th:only-of-type {\n",
       "        vertical-align: middle;\n",
       "    }\n",
       "\n",
       "    .dataframe tbody tr th {\n",
       "        vertical-align: top;\n",
       "    }\n",
       "\n",
       "    .dataframe thead th {\n",
       "        text-align: right;\n",
       "    }\n",
       "</style>\n",
       "<table border=\"1\" class=\"dataframe\">\n",
       "  <thead>\n",
       "    <tr style=\"text-align: right;\">\n",
       "      <th></th>\n",
       "      <th>Tanggal</th>\n",
       "      <th>Jenis Produk</th>\n",
       "      <th>Jumlah Order</th>\n",
       "      <th>Harga</th>\n",
       "      <th>Total</th>\n",
       "    </tr>\n",
       "  </thead>\n",
       "  <tbody>\n",
       "    <tr>\n",
       "      <th>149</th>\n",
       "      <td>2022-10-24</td>\n",
       "      <td>Dupleks350</td>\n",
       "      <td>2000</td>\n",
       "      <td>1975</td>\n",
       "      <td>3950000</td>\n",
       "    </tr>\n",
       "    <tr>\n",
       "      <th>150</th>\n",
       "      <td>2022-10-24</td>\n",
       "      <td>Dupleks350</td>\n",
       "      <td>1000</td>\n",
       "      <td>2200</td>\n",
       "      <td>2200000</td>\n",
       "    </tr>\n",
       "    <tr>\n",
       "      <th>160</th>\n",
       "      <td>2022-10-24</td>\n",
       "      <td>Dupleks350</td>\n",
       "      <td>2000</td>\n",
       "      <td>1500</td>\n",
       "      <td>3000000</td>\n",
       "    </tr>\n",
       "  </tbody>\n",
       "</table>\n",
       "</div>"
      ],
      "text/plain": [
       "       Tanggal Jenis Produk  Jumlah Order  Harga    Total\n",
       "149 2022-10-24   Dupleks350          2000   1975  3950000\n",
       "150 2022-10-24   Dupleks350          1000   2200  2200000\n",
       "160 2022-10-24   Dupleks350          2000   1500  3000000"
      ]
     },
     "execution_count": 22,
     "metadata": {},
     "output_type": "execute_result"
    }
   ],
   "source": [
    "october_2022_data = dp[(dp['Tanggal'].dt.year == 2022) & (dp['Tanggal'].dt.month == 10)]\n",
    "october_2022_data"
   ]
  },
  {
   "cell_type": "code",
   "execution_count": null,
   "id": "c4a96c75-8142-4b10-a5ed-896e56001a29",
   "metadata": {},
   "outputs": [],
   "source": []
  }
 ],
 "metadata": {
  "kernelspec": {
   "display_name": "Python [conda env:base] *",
   "language": "python",
   "name": "conda-base-py"
  },
  "language_info": {
   "codemirror_mode": {
    "name": "ipython",
    "version": 3
   },
   "file_extension": ".py",
   "mimetype": "text/x-python",
   "name": "python",
   "nbconvert_exporter": "python",
   "pygments_lexer": "ipython3",
   "version": "3.12.7"
  }
 },
 "nbformat": 4,
 "nbformat_minor": 5
}
